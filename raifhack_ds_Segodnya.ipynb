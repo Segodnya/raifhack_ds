{
  "nbformat": 4,
  "nbformat_minor": 5,
  "metadata": {
    "kernelspec": {
      "display_name": "Python 3",
      "language": "python",
      "name": "python3"
    },
    "language_info": {
      "codemirror_mode": {
        "name": "ipython",
        "version": 3
      },
      "file_extension": ".py",
      "mimetype": "text/x-python",
      "name": "python",
      "nbconvert_exporter": "python",
      "pygments_lexer": "ipython3",
      "version": "3.8.10"
    },
    "colab": {
      "name": "raifhack_ds_Segodnya.ipynb",
      "provenance": [],
      "collapsed_sections": []
    }
  },
  "cells": [
    {
      "cell_type": "markdown",
      "metadata": {
        "id": "4c4c5ad0"
      },
      "source": [
        "# IMPORTS"
      ],
      "id": "4c4c5ad0"
    },
    {
      "cell_type": "code",
      "metadata": {
        "id": "oXbYykiGdPTe"
      },
      "source": [
        "from sklearn.utils.validation import check_consistent_length, check_array\n",
        "\n",
        "def mean_absolute_percentage_error(y_true, y_pred,\n",
        "                                   sample_weight=None,\n",
        "                                   multioutput='uniform_average'):\n",
        "    \"\"\"Mean absolute percentage error regression loss.\n",
        "    Note here that we do not represent the output as a percentage in range\n",
        "    [0, 100]. Instead, we represent it in range [0, 1/eps]. Read more in the\n",
        "    :ref:`User Guide <mean_absolute_percentage_error>`.\n",
        "    .. versionadded:: 0.24\n",
        "    Parameters\n",
        "    ----------\n",
        "    y_true : array-like of shape (n_samples,) or (n_samples, n_outputs)\n",
        "        Ground truth (correct) target values.\n",
        "    y_pred : array-like of shape (n_samples,) or (n_samples, n_outputs)\n",
        "        Estimated target values.\n",
        "    sample_weight : array-like of shape (n_samples,), default=None\n",
        "        Sample weights.\n",
        "    multioutput : {'raw_values', 'uniform_average'} or array-like\n",
        "        Defines aggregating of multiple output values.\n",
        "        Array-like value defines weights used to average errors.\n",
        "        If input is list then the shape must be (n_outputs,).\n",
        "        'raw_values' :\n",
        "            Returns a full set of errors in case of multioutput input.\n",
        "        'uniform_average' :\n",
        "            Errors of all outputs are averaged with uniform weight.\n",
        "    Returns\n",
        "    -------\n",
        "    loss : float or ndarray of floats in the range [0, 1/eps]\n",
        "        If multioutput is 'raw_values', then mean absolute percentage error\n",
        "        is returned for each output separately.\n",
        "        If multioutput is 'uniform_average' or an ndarray of weights, then the\n",
        "        weighted average of all output errors is returned.\n",
        "        MAPE output is non-negative floating point. The best value is 0.0.\n",
        "        But note the fact that bad predictions can lead to arbitarily large\n",
        "        MAPE values, especially if some y_true values are very close to zero.\n",
        "        Note that we return a large value instead of `inf` when y_true is zero.\n",
        "    Examples\n",
        "    --------\n",
        "    >>> from sklearn.metrics import mean_absolute_percentage_error\n",
        "    >>> y_true = [3, -0.5, 2, 7]\n",
        "    >>> y_pred = [2.5, 0.0, 2, 8]\n",
        "    >>> mean_absolute_percentage_error(y_true, y_pred)\n",
        "    0.3273...\n",
        "    >>> y_true = [[0.5, 1], [-1, 1], [7, -6]]\n",
        "    >>> y_pred = [[0, 2], [-1, 2], [8, -5]]\n",
        "    >>> mean_absolute_percentage_error(y_true, y_pred)\n",
        "    0.5515...\n",
        "    >>> mean_absolute_percentage_error(y_true, y_pred, multioutput=[0.3, 0.7])\n",
        "    0.6198...\n",
        "    \"\"\"\n",
        "    y_type, y_true, y_pred, multioutput = _check_reg_targets(\n",
        "        y_true, y_pred, multioutput)\n",
        "    check_consistent_length(y_true, y_pred, sample_weight)\n",
        "    epsilon = np.finfo(np.float64).eps\n",
        "    mape = np.abs(y_pred - y_true) / np.maximum(np.abs(y_true), epsilon)\n",
        "    output_errors = np.average(mape,\n",
        "                               weights=sample_weight, axis=0)\n",
        "    if isinstance(multioutput, str):\n",
        "        if multioutput == 'raw_values':\n",
        "            return output_errors\n",
        "        elif multioutput == 'uniform_average':\n",
        "            # pass None as weights to np.average: uniform mean\n",
        "            multioutput = None\n",
        "\n",
        "    return np.average(output_errors, weights=multioutput)\n",
        "\n",
        "def _check_reg_targets(y_true, y_pred, multioutput, dtype=\"numeric\"):\n",
        "    \"\"\"Check that y_true and y_pred belong to the same regression task.\n",
        "    Parameters\n",
        "    ----------\n",
        "    y_true : array-like\n",
        "    y_pred : array-like\n",
        "    multioutput : array-like or string in ['raw_values', uniform_average',\n",
        "        'variance_weighted'] or None\n",
        "        None is accepted due to backward compatibility of r2_score().\n",
        "    Returns\n",
        "    -------\n",
        "    type_true : one of {'continuous', continuous-multioutput'}\n",
        "        The type of the true target data, as output by\n",
        "        'utils.multiclass.type_of_target'.\n",
        "    y_true : array-like of shape (n_samples, n_outputs)\n",
        "        Ground truth (correct) target values.\n",
        "    y_pred : array-like of shape (n_samples, n_outputs)\n",
        "        Estimated target values.\n",
        "    multioutput : array-like of shape (n_outputs) or string in ['raw_values',\n",
        "        uniform_average', 'variance_weighted'] or None\n",
        "        Custom output weights if ``multioutput`` is array-like or\n",
        "        just the corresponding argument if ``multioutput`` is a\n",
        "        correct keyword.\n",
        "    dtype : str or list, default=\"numeric\"\n",
        "        the dtype argument passed to check_array.\n",
        "    \"\"\"\n",
        "    check_consistent_length(y_true, y_pred)\n",
        "    y_true = check_array(y_true, ensure_2d=False, dtype=dtype)\n",
        "    y_pred = check_array(y_pred, ensure_2d=False, dtype=dtype)\n",
        "\n",
        "    if y_true.ndim == 1:\n",
        "        y_true = y_true.reshape((-1, 1))\n",
        "\n",
        "    if y_pred.ndim == 1:\n",
        "        y_pred = y_pred.reshape((-1, 1))\n",
        "\n",
        "    if y_true.shape[1] != y_pred.shape[1]:\n",
        "        raise ValueError(\"y_true and y_pred have different number of output \"\n",
        "                         \"({0}!={1})\".format(y_true.shape[1], y_pred.shape[1]))\n",
        "\n",
        "    n_outputs = y_true.shape[1]\n",
        "    allowed_multioutput_str = ('raw_values', 'uniform_average',\n",
        "                               'variance_weighted')\n",
        "    if isinstance(multioutput, str):\n",
        "        if multioutput not in allowed_multioutput_str:\n",
        "            raise ValueError(\"Allowed 'multioutput' string values are {}. \"\n",
        "                             \"You provided multioutput={!r}\".format(\n",
        "                                 allowed_multioutput_str,\n",
        "                                 multioutput))\n",
        "    elif multioutput is not None:\n",
        "        multioutput = check_array(multioutput, ensure_2d=False)\n",
        "        if n_outputs == 1:\n",
        "            raise ValueError(\"Custom weights are useful only in \"\n",
        "                             \"multi-output cases.\")\n",
        "        elif n_outputs != len(multioutput):\n",
        "            raise ValueError((\"There must be equally many custom weights \"\n",
        "                              \"(%d) as outputs (%d).\") %\n",
        "                             (len(multioutput), n_outputs))\n",
        "    y_type = 'continuous' if n_outputs == 1 else 'continuous-multioutput'\n",
        "\n",
        "    return y_type, y_true, y_pred, multioutput"
      ],
      "id": "oXbYykiGdPTe",
      "execution_count": 184,
      "outputs": []
    },
    {
      "cell_type": "code",
      "metadata": {
        "colab": {
          "base_uri": "https://localhost:8080/"
        },
        "id": "98706ebe",
        "outputId": "70229591-1468-4b25-f619-fd758665dda1"
      },
      "source": [
        "import numpy as np\n",
        "import pandas as pd\n",
        "import matplotlib.pyplot as plt\n",
        "import seaborn as sns\n",
        "\n",
        "from datetime import datetime\n",
        "\n",
        "from sklearn.feature_selection import f_classif, mutual_info_classif\n",
        "from sklearn.preprocessing import MinMaxScaler\n",
        "from sklearn.model_selection import train_test_split\n",
        "from lightgbm import LGBMRegressor\n",
        "from sklearn.ensemble import BaggingRegressor\n",
        "\n",
        "from google.colab import drive\n",
        "drive.mount('/drive')\n",
        "\n",
        "RANDOM_SEED = 42\n",
        "VAL_SIZE = 0.2\n",
        "\n",
        "# settings to display all columns\n",
        "pd.set_option(\"display.max_columns\", None)\n",
        "pd.set_option(\"display.max_rows\", None)\n",
        "\n",
        "# зафиксируем версию пакетов, чтобы эксперименты были воспроизводимы\n",
        "!pip freeze > '/drive/My Drive/Segodnya_DS/requirements.txt'\n",
        "\n",
        "def get_metric(y_true, y_pred):\n",
        "    return np.mean(np.abs(((y_true - y_pred) / y_true)))\n",
        "\n",
        "\n",
        "def get_boxplot(df, col):\n",
        "    # draw a boxplot\n",
        "    fig, axes = plt.subplots(figsize = (14, 4))\n",
        "    sns.boxplot(x='per_square_meter_price', y=col, data=df, ax=axes)\n",
        "    axes.set_title('Boxplot for ' + col)\n",
        "    plt.show()\n",
        "\n",
        "\n",
        "def getFeaturesInfo(df):\n",
        "    # num of unique values, first 10 unique values, null values count, type\n",
        "    df_agg = df.agg({'nunique', lambda s: s.unique()[:10]})\\\n",
        "        .append(pd.Series(df.isnull().sum(), name='null'))\\\n",
        "        .append(pd.Series(df.dtypes, name='dtype'))\\\n",
        "        .transpose()\n",
        "    \n",
        "    return df_agg\n",
        "\n",
        "\n",
        "import typing\n",
        "from sklearn.metrics import r2_score, mean_squared_error\n",
        "\n",
        "THRESHOLD = 0.15\n",
        "NEGATIVE_WEIGHT = 1.1\n",
        "\n",
        "def deviation_metric_one_sample(y_true: typing.Union[float, int], y_pred: typing.Union[float, int]) -> float:\n",
        "    \"\"\"\n",
        "    Реализация кастомной метрики для хакатона.\n",
        "\n",
        "    :param y_true: float, реальная цена\n",
        "    :param y_pred: float, предсказанная цена\n",
        "    :return: float, значение метрики\n",
        "    \"\"\"\n",
        "    deviation = (y_pred - y_true) / np.maximum(1e-8, y_true)\n",
        "    if np.abs(deviation) <= THRESHOLD:\n",
        "        return 0\n",
        "    elif deviation <= - 4 * THRESHOLD:\n",
        "        return 9 * NEGATIVE_WEIGHT\n",
        "    elif deviation < -THRESHOLD:\n",
        "        return NEGATIVE_WEIGHT * ((deviation / THRESHOLD) + 1) ** 2\n",
        "    elif deviation < 4 * THRESHOLD:\n",
        "        return ((deviation / THRESHOLD) - 1) ** 2\n",
        "    else:\n",
        "        return 9\n",
        "\n",
        "\n",
        "def deviation_metric(y_true: np.array, y_pred: np.array) -> float:\n",
        "    return np.array([deviation_metric_one_sample(y_true[n], y_pred[n]) for n in range(len(y_true))]).mean()\n",
        "\n",
        "def median_absolute_percentage_error(y_true: np.array, y_pred: np.array) -> float:\n",
        "    return np.median(np.abs(y_pred-y_true)/y_true)\n",
        "\n",
        "def metrics_stat(y_true: np.array, y_pred: np.array) -> typing.Dict[str,float]:\n",
        "    mape = mean_absolute_percentage_error(y_true, y_pred)\n",
        "    mdape = median_absolute_percentage_error(y_true, y_pred)\n",
        "    rmse = mean_squared_error(y_true, y_pred, squared=False)\n",
        "    r2 = r2_score(y_true, y_pred)\n",
        "    raif_metric = deviation_metric(y_true, y_pred)\n",
        "    return {'mape':mape, 'mdape':mdape, 'rmse': rmse, 'r2': r2, 'raif_metric':raif_metric}\n",
        "\n",
        "\n",
        "train = pd.read_csv('/drive/My Drive/Segodnya_DS/train.csv', low_memory=False)\n",
        "train.drop_duplicates(inplace=True)\n",
        "train.dropna(subset=['osm_city_nearest_population'], inplace=True)\n",
        "train = train.query('price_type == 1')\n",
        "test = pd.read_csv('/drive/My Drive/Segodnya_DS/test.csv')\n",
        "sample = pd.read_csv('/drive/My Drive/Segodnya_DS/test_submission.csv')\n"
      ],
      "id": "98706ebe",
      "execution_count": 185,
      "outputs": [
        {
          "output_type": "stream",
          "name": "stdout",
          "text": [
            "Drive already mounted at /drive; to attempt to forcibly remount, call drive.mount(\"/drive\", force_remount=True).\n"
          ]
        }
      ]
    },
    {
      "cell_type": "code",
      "metadata": {
        "scrolled": false,
        "id": "9d0068f4"
      },
      "source": [
        "# train.head(5).T"
      ],
      "id": "9d0068f4",
      "execution_count": 186,
      "outputs": []
    },
    {
      "cell_type": "code",
      "metadata": {
        "id": "bb647541"
      },
      "source": [
        "# train.info()"
      ],
      "id": "bb647541",
      "execution_count": 187,
      "outputs": []
    },
    {
      "cell_type": "code",
      "metadata": {
        "id": "e95fcfea"
      },
      "source": [
        "# test.head()"
      ],
      "id": "e95fcfea",
      "execution_count": 188,
      "outputs": []
    },
    {
      "cell_type": "code",
      "metadata": {
        "id": "c9232ea7"
      },
      "source": [
        "# test.info()"
      ],
      "id": "c9232ea7",
      "execution_count": 189,
      "outputs": []
    },
    {
      "cell_type": "code",
      "metadata": {
        "id": "10d4611d"
      },
      "source": [
        "# sample.head()"
      ],
      "id": "10d4611d",
      "execution_count": 190,
      "outputs": []
    },
    {
      "cell_type": "code",
      "metadata": {
        "id": "03ff63cc"
      },
      "source": [
        "# sample.info()"
      ],
      "id": "03ff63cc",
      "execution_count": 191,
      "outputs": []
    },
    {
      "cell_type": "markdown",
      "metadata": {
        "id": "d7830ffd"
      },
      "source": [
        "# EDA"
      ],
      "id": "d7830ffd"
    },
    {
      "cell_type": "code",
      "metadata": {
        "scrolled": false,
        "colab": {
          "base_uri": "https://localhost:8080/",
          "height": 1000
        },
        "id": "6af23be9",
        "outputId": "6581c085-54fd-42ff-8d3b-d4cfbe87b45c"
      },
      "source": [
        "getFeaturesInfo(train)"
      ],
      "id": "6af23be9",
      "execution_count": 192,
      "outputs": [
        {
          "output_type": "execute_result",
          "data": {
            "text/html": [
              "<div>\n",
              "<style scoped>\n",
              "    .dataframe tbody tr th:only-of-type {\n",
              "        vertical-align: middle;\n",
              "    }\n",
              "\n",
              "    .dataframe tbody tr th {\n",
              "        vertical-align: top;\n",
              "    }\n",
              "\n",
              "    .dataframe thead th {\n",
              "        text-align: right;\n",
              "    }\n",
              "</style>\n",
              "<table border=\"1\" class=\"dataframe\">\n",
              "  <thead>\n",
              "    <tr style=\"text-align: right;\">\n",
              "      <th></th>\n",
              "      <th>&lt;lambda&gt;</th>\n",
              "      <th>nunique</th>\n",
              "      <th>null</th>\n",
              "      <th>dtype</th>\n",
              "    </tr>\n",
              "  </thead>\n",
              "  <tbody>\n",
              "    <tr>\n",
              "      <th>city</th>\n",
              "      <td>[Красноярск, Саратов, Иркутск, Белгород, Санкт...</td>\n",
              "      <td>189</td>\n",
              "      <td>0</td>\n",
              "      <td>object</td>\n",
              "    </tr>\n",
              "    <tr>\n",
              "      <th>floor</th>\n",
              "      <td>[nan, 2.0, 1, -1.0, 1.0, 3.0, 18.0, подвал, 1,...</td>\n",
              "      <td>88</td>\n",
              "      <td>2463</td>\n",
              "      <td>object</td>\n",
              "    </tr>\n",
              "    <tr>\n",
              "      <th>id</th>\n",
              "      <td>[COL_62, COL_71, COL_140, COL_202, COL_207, CO...</td>\n",
              "      <td>4492</td>\n",
              "      <td>0</td>\n",
              "      <td>object</td>\n",
              "    </tr>\n",
              "    <tr>\n",
              "      <th>lat</th>\n",
              "      <td>[56.06361499599455, 51.534581216805535, 56.026...</td>\n",
              "      <td>3827</td>\n",
              "      <td>0</td>\n",
              "      <td>float64</td>\n",
              "    </tr>\n",
              "    <tr>\n",
              "      <th>lng</th>\n",
              "      <td>[92.95842777343151, 46.02054934002936, 92.8183...</td>\n",
              "      <td>4492</td>\n",
              "      <td>0</td>\n",
              "      <td>float64</td>\n",
              "    </tr>\n",
              "    <tr>\n",
              "      <th>osm_amenity_points_in_0.001</th>\n",
              "      <td>[0, 13, 3, 4, 18, 1, 2, 6, 12, 5]</td>\n",
              "      <td>33</td>\n",
              "      <td>0</td>\n",
              "      <td>int64</td>\n",
              "    </tr>\n",
              "    <tr>\n",
              "      <th>osm_amenity_points_in_0.005</th>\n",
              "      <td>[7, 198, 15, 10, 48, 430, 20, 27, 5, 9]</td>\n",
              "      <td>297</td>\n",
              "      <td>0</td>\n",
              "      <td>int64</td>\n",
              "    </tr>\n",
              "    <tr>\n",
              "      <th>osm_amenity_points_in_0.0075</th>\n",
              "      <td>[14, 345, 23, 26, 73, 731, 41, 77, 27, 6]</td>\n",
              "      <td>441</td>\n",
              "      <td>0</td>\n",
              "      <td>int64</td>\n",
              "    </tr>\n",
              "    <tr>\n",
              "      <th>osm_amenity_points_in_0.01</th>\n",
              "      <td>[26, 462, 33, 40, 92, 1160, 84, 125, 52, 10]</td>\n",
              "      <td>589</td>\n",
              "      <td>0</td>\n",
              "      <td>int64</td>\n",
              "    </tr>\n",
              "    <tr>\n",
              "      <th>osm_building_points_in_0.001</th>\n",
              "      <td>[0, 1, 2]</td>\n",
              "      <td>3</td>\n",
              "      <td>0</td>\n",
              "      <td>int64</td>\n",
              "    </tr>\n",
              "    <tr>\n",
              "      <th>osm_building_points_in_0.005</th>\n",
              "      <td>[0, 1, 2, 3, 5, 4, 6, 7, 10, 9]</td>\n",
              "      <td>16</td>\n",
              "      <td>0</td>\n",
              "      <td>int64</td>\n",
              "    </tr>\n",
              "    <tr>\n",
              "      <th>osm_building_points_in_0.0075</th>\n",
              "      <td>[0, 1, 6, 3, 10, 4, 2, 8, 5, 7]</td>\n",
              "      <td>21</td>\n",
              "      <td>0</td>\n",
              "      <td>int64</td>\n",
              "    </tr>\n",
              "    <tr>\n",
              "      <th>osm_building_points_in_0.01</th>\n",
              "      <td>[0, 1, 6, 3, 2, 20, 5, 10, 12, 9]</td>\n",
              "      <td>30</td>\n",
              "      <td>0</td>\n",
              "      <td>int64</td>\n",
              "    </tr>\n",
              "    <tr>\n",
              "      <th>osm_catering_points_in_0.001</th>\n",
              "      <td>[0, 4, 1, 8, 5, 3, 2, 11, 6, 7]</td>\n",
              "      <td>18</td>\n",
              "      <td>0</td>\n",
              "      <td>int64</td>\n",
              "    </tr>\n",
              "    <tr>\n",
              "      <th>osm_catering_points_in_0.005</th>\n",
              "      <td>[0, 44, 1, 2, 7, 157, 6, 18, 11, 15]</td>\n",
              "      <td>138</td>\n",
              "      <td>0</td>\n",
              "      <td>int64</td>\n",
              "    </tr>\n",
              "    <tr>\n",
              "      <th>osm_catering_points_in_0.0075</th>\n",
              "      <td>[0, 66, 3, 6, 11, 248, 5, 15, 2, 1]</td>\n",
              "      <td>188</td>\n",
              "      <td>0</td>\n",
              "      <td>int64</td>\n",
              "    </tr>\n",
              "    <tr>\n",
              "      <th>osm_catering_points_in_0.01</th>\n",
              "      <td>[2, 89, 4, 8, 15, 393, 10, 21, 6, 0]</td>\n",
              "      <td>270</td>\n",
              "      <td>0</td>\n",
              "      <td>int64</td>\n",
              "    </tr>\n",
              "    <tr>\n",
              "      <th>osm_city_closest_dist</th>\n",
              "      <td>[7.795659272639967, 0.9871604317705798, 3.7305...</td>\n",
              "      <td>3641</td>\n",
              "      <td>0</td>\n",
              "      <td>float64</td>\n",
              "    </tr>\n",
              "    <tr>\n",
              "      <th>osm_city_nearest_name</th>\n",
              "      <td>[Красноярск, Саратов, Иркутск, Белгород, Санкт...</td>\n",
              "      <td>107</td>\n",
              "      <td>0</td>\n",
              "      <td>object</td>\n",
              "    </tr>\n",
              "    <tr>\n",
              "      <th>osm_city_nearest_population</th>\n",
              "      <td>[1095286.0, 842097.0, 623562.0, 384425.0, 5381...</td>\n",
              "      <td>107</td>\n",
              "      <td>0</td>\n",
              "      <td>float64</td>\n",
              "    </tr>\n",
              "    <tr>\n",
              "      <th>osm_crossing_closest_dist</th>\n",
              "      <td>[0.04132256583280482, 0.14493628805566555, 0.1...</td>\n",
              "      <td>3641</td>\n",
              "      <td>0</td>\n",
              "      <td>float64</td>\n",
              "    </tr>\n",
              "    <tr>\n",
              "      <th>osm_crossing_points_in_0.001</th>\n",
              "      <td>[2, 0, 1, 3, 6, 10, 4, 5, 7, 9]</td>\n",
              "      <td>11</td>\n",
              "      <td>0</td>\n",
              "      <td>int64</td>\n",
              "    </tr>\n",
              "    <tr>\n",
              "      <th>osm_crossing_points_in_0.005</th>\n",
              "      <td>[6, 4, 16, 19, 46, 22, 3, 8, 0, 2]</td>\n",
              "      <td>81</td>\n",
              "      <td>0</td>\n",
              "      <td>int64</td>\n",
              "    </tr>\n",
              "    <tr>\n",
              "      <th>osm_crossing_points_in_0.0075</th>\n",
              "      <td>[25, 34, 35, 6, 28, 89, 45, 22, 15, 4]</td>\n",
              "      <td>141</td>\n",
              "      <td>0</td>\n",
              "      <td>int64</td>\n",
              "    </tr>\n",
              "    <tr>\n",
              "      <th>osm_crossing_points_in_0.01</th>\n",
              "      <td>[35, 59, 56, 6, 46, 161, 79, 51, 19, 5]</td>\n",
              "      <td>225</td>\n",
              "      <td>0</td>\n",
              "      <td>int64</td>\n",
              "    </tr>\n",
              "    <tr>\n",
              "      <th>osm_culture_points_in_0.001</th>\n",
              "      <td>[0, 1, 2, 5, 3, 4, 8, 6]</td>\n",
              "      <td>8</td>\n",
              "      <td>0</td>\n",
              "      <td>int64</td>\n",
              "    </tr>\n",
              "    <tr>\n",
              "      <th>osm_culture_points_in_0.005</th>\n",
              "      <td>[0, 1, 5, 4, 2, 6, 10, 27, 22, 3]</td>\n",
              "      <td>45</td>\n",
              "      <td>0</td>\n",
              "      <td>int64</td>\n",
              "    </tr>\n",
              "    <tr>\n",
              "      <th>osm_culture_points_in_0.0075</th>\n",
              "      <td>[0, 6, 10, 12, 1, 4, 7, 5, 9, 2]</td>\n",
              "      <td>69</td>\n",
              "      <td>0</td>\n",
              "      <td>int64</td>\n",
              "    </tr>\n",
              "    <tr>\n",
              "      <th>osm_culture_points_in_0.01</th>\n",
              "      <td>[2, 9, 0, 11, 39, 4, 10, 6, 16, 23]</td>\n",
              "      <td>92</td>\n",
              "      <td>0</td>\n",
              "      <td>int64</td>\n",
              "    </tr>\n",
              "    <tr>\n",
              "      <th>osm_finance_points_in_0.001</th>\n",
              "      <td>[0, 2, 1, 3, 4, 5]</td>\n",
              "      <td>6</td>\n",
              "      <td>0</td>\n",
              "      <td>int64</td>\n",
              "    </tr>\n",
              "    <tr>\n",
              "      <th>osm_finance_points_in_0.005</th>\n",
              "      <td>[1, 13, 3, 0, 2, 12, 4, 24, 5, 7]</td>\n",
              "      <td>24</td>\n",
              "      <td>0</td>\n",
              "      <td>int64</td>\n",
              "    </tr>\n",
              "    <tr>\n",
              "      <th>osm_finance_points_in_0.0075</th>\n",
              "      <td>[2, 22, 3, 0, 20, 1, 6, 9, 11, 30]</td>\n",
              "      <td>36</td>\n",
              "      <td>0</td>\n",
              "      <td>int64</td>\n",
              "    </tr>\n",
              "    <tr>\n",
              "      <th>osm_finance_points_in_0.01</th>\n",
              "      <td>[3, 27, 1, 4, 33, 2, 10, 5, 6, 11]</td>\n",
              "      <td>53</td>\n",
              "      <td>0</td>\n",
              "      <td>int64</td>\n",
              "    </tr>\n",
              "    <tr>\n",
              "      <th>osm_healthcare_points_in_0.005</th>\n",
              "      <td>[0, 7, 3, 15, 1, 2, 4, 6, 14, 9]</td>\n",
              "      <td>29</td>\n",
              "      <td>0</td>\n",
              "      <td>int64</td>\n",
              "    </tr>\n",
              "    <tr>\n",
              "      <th>osm_healthcare_points_in_0.0075</th>\n",
              "      <td>[0, 17, 1, 4, 3, 20, 2, 5, 6, 8]</td>\n",
              "      <td>48</td>\n",
              "      <td>0</td>\n",
              "      <td>int64</td>\n",
              "    </tr>\n",
              "    <tr>\n",
              "      <th>osm_healthcare_points_in_0.01</th>\n",
              "      <td>[0, 27, 1, 4, 43, 3, 2, 6, 9, 10]</td>\n",
              "      <td>70</td>\n",
              "      <td>0</td>\n",
              "      <td>int64</td>\n",
              "    </tr>\n",
              "    <tr>\n",
              "      <th>osm_historic_points_in_0.005</th>\n",
              "      <td>[0, 4, 3, 2, 8, 1, 10, 5, 6, 17]</td>\n",
              "      <td>33</td>\n",
              "      <td>0</td>\n",
              "      <td>int64</td>\n",
              "    </tr>\n",
              "    <tr>\n",
              "      <th>osm_historic_points_in_0.0075</th>\n",
              "      <td>[0, 7, 3, 2, 25, 5, 1, 17, 18, 14]</td>\n",
              "      <td>57</td>\n",
              "      <td>0</td>\n",
              "      <td>int64</td>\n",
              "    </tr>\n",
              "    <tr>\n",
              "      <th>osm_historic_points_in_0.01</th>\n",
              "      <td>[1, 9, 3, 0, 2, 54, 5, 19, 22, 21]</td>\n",
              "      <td>80</td>\n",
              "      <td>0</td>\n",
              "      <td>int64</td>\n",
              "    </tr>\n",
              "    <tr>\n",
              "      <th>osm_hotels_points_in_0.005</th>\n",
              "      <td>[0, 2, 39, 1, 9, 3, 31, 34, 11, 15]</td>\n",
              "      <td>58</td>\n",
              "      <td>0</td>\n",
              "      <td>int64</td>\n",
              "    </tr>\n",
              "    <tr>\n",
              "      <th>osm_hotels_points_in_0.0075</th>\n",
              "      <td>[0, 5, 1, 2, 71, 3, 4, 17, 80, 57]</td>\n",
              "      <td>86</td>\n",
              "      <td>0</td>\n",
              "      <td>int64</td>\n",
              "    </tr>\n",
              "    <tr>\n",
              "      <th>osm_hotels_points_in_0.01</th>\n",
              "      <td>[0, 7, 1, 2, 117, 3, 4, 8, 23, 139]</td>\n",
              "      <td>101</td>\n",
              "      <td>0</td>\n",
              "      <td>int64</td>\n",
              "    </tr>\n",
              "    <tr>\n",
              "      <th>osm_leisure_points_in_0.005</th>\n",
              "      <td>[1, 11, 2, 10, 9, 0, 3, 4, 6, 27]</td>\n",
              "      <td>27</td>\n",
              "      <td>0</td>\n",
              "      <td>int64</td>\n",
              "    </tr>\n",
              "    <tr>\n",
              "      <th>osm_leisure_points_in_0.0075</th>\n",
              "      <td>[1, 16, 2, 11, 28, 8, 0, 6, 4, 3]</td>\n",
              "      <td>41</td>\n",
              "      <td>0</td>\n",
              "      <td>int64</td>\n",
              "    </tr>\n",
              "    <tr>\n",
              "      <th>osm_leisure_points_in_0.01</th>\n",
              "      <td>[1, 20, 2, 15, 39, 3, 13, 0, 6, 7]</td>\n",
              "      <td>56</td>\n",
              "      <td>0</td>\n",
              "      <td>int64</td>\n",
              "    </tr>\n",
              "    <tr>\n",
              "      <th>osm_offices_points_in_0.001</th>\n",
              "      <td>[0, 1, 2, 5, 4, 3, 9, 6, 7, 8]</td>\n",
              "      <td>10</td>\n",
              "      <td>0</td>\n",
              "      <td>int64</td>\n",
              "    </tr>\n",
              "    <tr>\n",
              "      <th>osm_offices_points_in_0.005</th>\n",
              "      <td>[0, 11, 2, 1, 57, 4, 6, 3, 15, 9]</td>\n",
              "      <td>60</td>\n",
              "      <td>0</td>\n",
              "      <td>int64</td>\n",
              "    </tr>\n",
              "    <tr>\n",
              "      <th>osm_offices_points_in_0.0075</th>\n",
              "      <td>[0, 21, 2, 1, 99, 4, 10, 9, 6, 17]</td>\n",
              "      <td>92</td>\n",
              "      <td>0</td>\n",
              "      <td>int64</td>\n",
              "    </tr>\n",
              "    <tr>\n",
              "      <th>osm_offices_points_in_0.01</th>\n",
              "      <td>[0, 28, 3, 1, 162, 9, 18, 2, 6, 4]</td>\n",
              "      <td>125</td>\n",
              "      <td>0</td>\n",
              "      <td>int64</td>\n",
              "    </tr>\n",
              "    <tr>\n",
              "      <th>osm_shops_points_in_0.001</th>\n",
              "      <td>[0, 8, 1, 16, 4, 2, 3, 6, 10, 7]</td>\n",
              "      <td>26</td>\n",
              "      <td>0</td>\n",
              "      <td>int64</td>\n",
              "    </tr>\n",
              "    <tr>\n",
              "      <th>osm_shops_points_in_0.005</th>\n",
              "      <td>[5, 125, 19, 273, 15, 17, 4, 6, 13, 1]</td>\n",
              "      <td>229</td>\n",
              "      <td>0</td>\n",
              "      <td>int64</td>\n",
              "    </tr>\n",
              "    <tr>\n",
              "      <th>osm_shops_points_in_0.0075</th>\n",
              "      <td>[10, 218, 11, 29, 436, 28, 40, 17, 5, 27]</td>\n",
              "      <td>334</td>\n",
              "      <td>0</td>\n",
              "      <td>int64</td>\n",
              "    </tr>\n",
              "    <tr>\n",
              "      <th>osm_shops_points_in_0.01</th>\n",
              "      <td>[15, 286, 18, 21, 36, 650, 64, 68, 30, 6]</td>\n",
              "      <td>423</td>\n",
              "      <td>0</td>\n",
              "      <td>int64</td>\n",
              "    </tr>\n",
              "    <tr>\n",
              "      <th>osm_subway_closest_dist</th>\n",
              "      <td>[1.087100718944528, 357.4252393143544, 1.62135...</td>\n",
              "      <td>3641</td>\n",
              "      <td>0</td>\n",
              "      <td>float64</td>\n",
              "    </tr>\n",
              "    <tr>\n",
              "      <th>osm_train_stop_closest_dist</th>\n",
              "      <td>[2.281425388372986, 1.924420729812792, 0.57909...</td>\n",
              "      <td>3641</td>\n",
              "      <td>0</td>\n",
              "      <td>float64</td>\n",
              "    </tr>\n",
              "    <tr>\n",
              "      <th>osm_train_stop_points_in_0.005</th>\n",
              "      <td>[0, 3, 1, 2, 5, 6, 8, 9, 4]</td>\n",
              "      <td>9</td>\n",
              "      <td>0</td>\n",
              "      <td>int64</td>\n",
              "    </tr>\n",
              "    <tr>\n",
              "      <th>osm_train_stop_points_in_0.0075</th>\n",
              "      <td>[0, 3, 1, 2, 8, 7, 5, 6, 9, 4]</td>\n",
              "      <td>10</td>\n",
              "      <td>0</td>\n",
              "      <td>int64</td>\n",
              "    </tr>\n",
              "    <tr>\n",
              "      <th>osm_train_stop_points_in_0.01</th>\n",
              "      <td>[0, 2, 3, 1, 8, 5, 7, 6, 9, 4]</td>\n",
              "      <td>11</td>\n",
              "      <td>0</td>\n",
              "      <td>int64</td>\n",
              "    </tr>\n",
              "    <tr>\n",
              "      <th>osm_transport_stop_closest_dist</th>\n",
              "      <td>[0.052808551333467686, 0.0454507111663388, 0.2...</td>\n",
              "      <td>3641</td>\n",
              "      <td>0</td>\n",
              "      <td>float64</td>\n",
              "    </tr>\n",
              "    <tr>\n",
              "      <th>osm_transport_stop_points_in_0.005</th>\n",
              "      <td>[7, 22, 6, 8, 24, 4, 3, 10, 1, 2]</td>\n",
              "      <td>33</td>\n",
              "      <td>0</td>\n",
              "      <td>int64</td>\n",
              "    </tr>\n",
              "    <tr>\n",
              "      <th>osm_transport_stop_points_in_0.0075</th>\n",
              "      <td>[15, 34, 11, 17, 35, 19, 10, 12, 7, 3]</td>\n",
              "      <td>55</td>\n",
              "      <td>0</td>\n",
              "      <td>int64</td>\n",
              "    </tr>\n",
              "    <tr>\n",
              "      <th>osm_transport_stop_points_in_0.01</th>\n",
              "      <td>[21, 45, 18, 19, 22, 74, 24, 12, 13, 29]</td>\n",
              "      <td>81</td>\n",
              "      <td>0</td>\n",
              "      <td>int64</td>\n",
              "    </tr>\n",
              "    <tr>\n",
              "      <th>per_square_meter_price</th>\n",
              "      <td>[103120.69731041184, 24874.371004043016, 80058...</td>\n",
              "      <td>4492</td>\n",
              "      <td>0</td>\n",
              "      <td>float64</td>\n",
              "    </tr>\n",
              "    <tr>\n",
              "      <th>reform_count_of_houses_1000</th>\n",
              "      <td>[95, 502, 175, 230, 131, 235, 136, 113, 225, 161]</td>\n",
              "      <td>432</td>\n",
              "      <td>0</td>\n",
              "      <td>int64</td>\n",
              "    </tr>\n",
              "    <tr>\n",
              "      <th>reform_count_of_houses_500</th>\n",
              "      <td>[31, 104, 66, 56, 35, 82, 26, 37, 57, 44]</td>\n",
              "      <td>167</td>\n",
              "      <td>0</td>\n",
              "      <td>int64</td>\n",
              "    </tr>\n",
              "    <tr>\n",
              "      <th>reform_house_population_1000</th>\n",
              "      <td>[2670.0, 4886.0, 4282.0, 1887.0, 3837.0, 4758....</td>\n",
              "      <td>2311</td>\n",
              "      <td>55</td>\n",
              "      <td>float64</td>\n",
              "    </tr>\n",
              "    <tr>\n",
              "      <th>reform_house_population_500</th>\n",
              "      <td>[940.0, 943.0, 1445.0, 612.0, 1073.0, 1802.0, ...</td>\n",
              "      <td>1369</td>\n",
              "      <td>68</td>\n",
              "      <td>float64</td>\n",
              "    </tr>\n",
              "    <tr>\n",
              "      <th>reform_mean_floor_count_1000</th>\n",
              "      <td>[7.136842105263157, 4.144607843137255, 6.85142...</td>\n",
              "      <td>3193</td>\n",
              "      <td>63</td>\n",
              "      <td>float64</td>\n",
              "    </tr>\n",
              "    <tr>\n",
              "      <th>reform_mean_floor_count_500</th>\n",
              "      <td>[7.612903225806452, 4.1645569620253164, 5.7424...</td>\n",
              "      <td>2469</td>\n",
              "      <td>78</td>\n",
              "      <td>float64</td>\n",
              "    </tr>\n",
              "    <tr>\n",
              "      <th>reform_mean_year_building_1000</th>\n",
              "      <td>[1976.6842105263158, 1940.5915492957752, 1976....</td>\n",
              "      <td>3350</td>\n",
              "      <td>61</td>\n",
              "      <td>float64</td>\n",
              "    </tr>\n",
              "    <tr>\n",
              "      <th>reform_mean_year_building_500</th>\n",
              "      <td>[1980.483870967742, 1939.3488372093025, 1972.8...</td>\n",
              "      <td>3110</td>\n",
              "      <td>76</td>\n",
              "      <td>float64</td>\n",
              "    </tr>\n",
              "    <tr>\n",
              "      <th>region</th>\n",
              "      <td>[Красноярский край, Саратовская область, Иркут...</td>\n",
              "      <td>48</td>\n",
              "      <td>0</td>\n",
              "      <td>object</td>\n",
              "    </tr>\n",
              "    <tr>\n",
              "      <th>total_square</th>\n",
              "      <td>[106.3511039591534, 175.0396019779681, 89.5349...</td>\n",
              "      <td>4492</td>\n",
              "      <td>0</td>\n",
              "      <td>float64</td>\n",
              "    </tr>\n",
              "    <tr>\n",
              "      <th>street</th>\n",
              "      <td>[S5845, S27968, S23597, S10587, S11220, S6752,...</td>\n",
              "      <td>1625</td>\n",
              "      <td>17</td>\n",
              "      <td>object</td>\n",
              "    </tr>\n",
              "    <tr>\n",
              "      <th>date</th>\n",
              "      <td>[2020-01-05, 2020-01-12, 2020-01-19, 2020-01-2...</td>\n",
              "      <td>34</td>\n",
              "      <td>0</td>\n",
              "      <td>object</td>\n",
              "    </tr>\n",
              "    <tr>\n",
              "      <th>realty_type</th>\n",
              "      <td>[110, 10, 100]</td>\n",
              "      <td>3</td>\n",
              "      <td>0</td>\n",
              "      <td>int64</td>\n",
              "    </tr>\n",
              "    <tr>\n",
              "      <th>price_type</th>\n",
              "      <td>[1]</td>\n",
              "      <td>1</td>\n",
              "      <td>0</td>\n",
              "      <td>int64</td>\n",
              "    </tr>\n",
              "  </tbody>\n",
              "</table>\n",
              "</div>"
            ],
            "text/plain": [
              "                                                                              <lambda>  \\\n",
              "city                                 [Красноярск, Саратов, Иркутск, Белгород, Санкт...   \n",
              "floor                                [nan, 2.0, 1, -1.0, 1.0, 3.0, 18.0, подвал, 1,...   \n",
              "id                                   [COL_62, COL_71, COL_140, COL_202, COL_207, CO...   \n",
              "lat                                  [56.06361499599455, 51.534581216805535, 56.026...   \n",
              "lng                                  [92.95842777343151, 46.02054934002936, 92.8183...   \n",
              "osm_amenity_points_in_0.001                          [0, 13, 3, 4, 18, 1, 2, 6, 12, 5]   \n",
              "osm_amenity_points_in_0.005                    [7, 198, 15, 10, 48, 430, 20, 27, 5, 9]   \n",
              "osm_amenity_points_in_0.0075                 [14, 345, 23, 26, 73, 731, 41, 77, 27, 6]   \n",
              "osm_amenity_points_in_0.01                [26, 462, 33, 40, 92, 1160, 84, 125, 52, 10]   \n",
              "osm_building_points_in_0.001                                                 [0, 1, 2]   \n",
              "osm_building_points_in_0.005                           [0, 1, 2, 3, 5, 4, 6, 7, 10, 9]   \n",
              "osm_building_points_in_0.0075                          [0, 1, 6, 3, 10, 4, 2, 8, 5, 7]   \n",
              "osm_building_points_in_0.01                          [0, 1, 6, 3, 2, 20, 5, 10, 12, 9]   \n",
              "osm_catering_points_in_0.001                           [0, 4, 1, 8, 5, 3, 2, 11, 6, 7]   \n",
              "osm_catering_points_in_0.005                      [0, 44, 1, 2, 7, 157, 6, 18, 11, 15]   \n",
              "osm_catering_points_in_0.0075                      [0, 66, 3, 6, 11, 248, 5, 15, 2, 1]   \n",
              "osm_catering_points_in_0.01                       [2, 89, 4, 8, 15, 393, 10, 21, 6, 0]   \n",
              "osm_city_closest_dist                [7.795659272639967, 0.9871604317705798, 3.7305...   \n",
              "osm_city_nearest_name                [Красноярск, Саратов, Иркутск, Белгород, Санкт...   \n",
              "osm_city_nearest_population          [1095286.0, 842097.0, 623562.0, 384425.0, 5381...   \n",
              "osm_crossing_closest_dist            [0.04132256583280482, 0.14493628805566555, 0.1...   \n",
              "osm_crossing_points_in_0.001                           [2, 0, 1, 3, 6, 10, 4, 5, 7, 9]   \n",
              "osm_crossing_points_in_0.005                        [6, 4, 16, 19, 46, 22, 3, 8, 0, 2]   \n",
              "osm_crossing_points_in_0.0075                   [25, 34, 35, 6, 28, 89, 45, 22, 15, 4]   \n",
              "osm_crossing_points_in_0.01                    [35, 59, 56, 6, 46, 161, 79, 51, 19, 5]   \n",
              "osm_culture_points_in_0.001                                   [0, 1, 2, 5, 3, 4, 8, 6]   \n",
              "osm_culture_points_in_0.005                          [0, 1, 5, 4, 2, 6, 10, 27, 22, 3]   \n",
              "osm_culture_points_in_0.0075                          [0, 6, 10, 12, 1, 4, 7, 5, 9, 2]   \n",
              "osm_culture_points_in_0.01                         [2, 9, 0, 11, 39, 4, 10, 6, 16, 23]   \n",
              "osm_finance_points_in_0.001                                         [0, 2, 1, 3, 4, 5]   \n",
              "osm_finance_points_in_0.005                          [1, 13, 3, 0, 2, 12, 4, 24, 5, 7]   \n",
              "osm_finance_points_in_0.0075                        [2, 22, 3, 0, 20, 1, 6, 9, 11, 30]   \n",
              "osm_finance_points_in_0.01                          [3, 27, 1, 4, 33, 2, 10, 5, 6, 11]   \n",
              "osm_healthcare_points_in_0.005                        [0, 7, 3, 15, 1, 2, 4, 6, 14, 9]   \n",
              "osm_healthcare_points_in_0.0075                       [0, 17, 1, 4, 3, 20, 2, 5, 6, 8]   \n",
              "osm_healthcare_points_in_0.01                        [0, 27, 1, 4, 43, 3, 2, 6, 9, 10]   \n",
              "osm_historic_points_in_0.005                          [0, 4, 3, 2, 8, 1, 10, 5, 6, 17]   \n",
              "osm_historic_points_in_0.0075                       [0, 7, 3, 2, 25, 5, 1, 17, 18, 14]   \n",
              "osm_historic_points_in_0.01                         [1, 9, 3, 0, 2, 54, 5, 19, 22, 21]   \n",
              "osm_hotels_points_in_0.005                         [0, 2, 39, 1, 9, 3, 31, 34, 11, 15]   \n",
              "osm_hotels_points_in_0.0075                         [0, 5, 1, 2, 71, 3, 4, 17, 80, 57]   \n",
              "osm_hotels_points_in_0.01                          [0, 7, 1, 2, 117, 3, 4, 8, 23, 139]   \n",
              "osm_leisure_points_in_0.005                          [1, 11, 2, 10, 9, 0, 3, 4, 6, 27]   \n",
              "osm_leisure_points_in_0.0075                         [1, 16, 2, 11, 28, 8, 0, 6, 4, 3]   \n",
              "osm_leisure_points_in_0.01                          [1, 20, 2, 15, 39, 3, 13, 0, 6, 7]   \n",
              "osm_offices_points_in_0.001                             [0, 1, 2, 5, 4, 3, 9, 6, 7, 8]   \n",
              "osm_offices_points_in_0.005                          [0, 11, 2, 1, 57, 4, 6, 3, 15, 9]   \n",
              "osm_offices_points_in_0.0075                        [0, 21, 2, 1, 99, 4, 10, 9, 6, 17]   \n",
              "osm_offices_points_in_0.01                          [0, 28, 3, 1, 162, 9, 18, 2, 6, 4]   \n",
              "osm_shops_points_in_0.001                             [0, 8, 1, 16, 4, 2, 3, 6, 10, 7]   \n",
              "osm_shops_points_in_0.005                       [5, 125, 19, 273, 15, 17, 4, 6, 13, 1]   \n",
              "osm_shops_points_in_0.0075                   [10, 218, 11, 29, 436, 28, 40, 17, 5, 27]   \n",
              "osm_shops_points_in_0.01                     [15, 286, 18, 21, 36, 650, 64, 68, 30, 6]   \n",
              "osm_subway_closest_dist              [1.087100718944528, 357.4252393143544, 1.62135...   \n",
              "osm_train_stop_closest_dist          [2.281425388372986, 1.924420729812792, 0.57909...   \n",
              "osm_train_stop_points_in_0.005                             [0, 3, 1, 2, 5, 6, 8, 9, 4]   \n",
              "osm_train_stop_points_in_0.0075                         [0, 3, 1, 2, 8, 7, 5, 6, 9, 4]   \n",
              "osm_train_stop_points_in_0.01                           [0, 2, 3, 1, 8, 5, 7, 6, 9, 4]   \n",
              "osm_transport_stop_closest_dist      [0.052808551333467686, 0.0454507111663388, 0.2...   \n",
              "osm_transport_stop_points_in_0.005                   [7, 22, 6, 8, 24, 4, 3, 10, 1, 2]   \n",
              "osm_transport_stop_points_in_0.0075             [15, 34, 11, 17, 35, 19, 10, 12, 7, 3]   \n",
              "osm_transport_stop_points_in_0.01             [21, 45, 18, 19, 22, 74, 24, 12, 13, 29]   \n",
              "per_square_meter_price               [103120.69731041184, 24874.371004043016, 80058...   \n",
              "reform_count_of_houses_1000          [95, 502, 175, 230, 131, 235, 136, 113, 225, 161]   \n",
              "reform_count_of_houses_500                   [31, 104, 66, 56, 35, 82, 26, 37, 57, 44]   \n",
              "reform_house_population_1000         [2670.0, 4886.0, 4282.0, 1887.0, 3837.0, 4758....   \n",
              "reform_house_population_500          [940.0, 943.0, 1445.0, 612.0, 1073.0, 1802.0, ...   \n",
              "reform_mean_floor_count_1000         [7.136842105263157, 4.144607843137255, 6.85142...   \n",
              "reform_mean_floor_count_500          [7.612903225806452, 4.1645569620253164, 5.7424...   \n",
              "reform_mean_year_building_1000       [1976.6842105263158, 1940.5915492957752, 1976....   \n",
              "reform_mean_year_building_500        [1980.483870967742, 1939.3488372093025, 1972.8...   \n",
              "region                               [Красноярский край, Саратовская область, Иркут...   \n",
              "total_square                         [106.3511039591534, 175.0396019779681, 89.5349...   \n",
              "street                               [S5845, S27968, S23597, S10587, S11220, S6752,...   \n",
              "date                                 [2020-01-05, 2020-01-12, 2020-01-19, 2020-01-2...   \n",
              "realty_type                                                             [110, 10, 100]   \n",
              "price_type                                                                         [1]   \n",
              "\n",
              "                                    nunique  null    dtype  \n",
              "city                                    189     0   object  \n",
              "floor                                    88  2463   object  \n",
              "id                                     4492     0   object  \n",
              "lat                                    3827     0  float64  \n",
              "lng                                    4492     0  float64  \n",
              "osm_amenity_points_in_0.001              33     0    int64  \n",
              "osm_amenity_points_in_0.005             297     0    int64  \n",
              "osm_amenity_points_in_0.0075            441     0    int64  \n",
              "osm_amenity_points_in_0.01              589     0    int64  \n",
              "osm_building_points_in_0.001              3     0    int64  \n",
              "osm_building_points_in_0.005             16     0    int64  \n",
              "osm_building_points_in_0.0075            21     0    int64  \n",
              "osm_building_points_in_0.01              30     0    int64  \n",
              "osm_catering_points_in_0.001             18     0    int64  \n",
              "osm_catering_points_in_0.005            138     0    int64  \n",
              "osm_catering_points_in_0.0075           188     0    int64  \n",
              "osm_catering_points_in_0.01             270     0    int64  \n",
              "osm_city_closest_dist                  3641     0  float64  \n",
              "osm_city_nearest_name                   107     0   object  \n",
              "osm_city_nearest_population             107     0  float64  \n",
              "osm_crossing_closest_dist              3641     0  float64  \n",
              "osm_crossing_points_in_0.001             11     0    int64  \n",
              "osm_crossing_points_in_0.005             81     0    int64  \n",
              "osm_crossing_points_in_0.0075           141     0    int64  \n",
              "osm_crossing_points_in_0.01             225     0    int64  \n",
              "osm_culture_points_in_0.001               8     0    int64  \n",
              "osm_culture_points_in_0.005              45     0    int64  \n",
              "osm_culture_points_in_0.0075             69     0    int64  \n",
              "osm_culture_points_in_0.01               92     0    int64  \n",
              "osm_finance_points_in_0.001               6     0    int64  \n",
              "osm_finance_points_in_0.005              24     0    int64  \n",
              "osm_finance_points_in_0.0075             36     0    int64  \n",
              "osm_finance_points_in_0.01               53     0    int64  \n",
              "osm_healthcare_points_in_0.005           29     0    int64  \n",
              "osm_healthcare_points_in_0.0075          48     0    int64  \n",
              "osm_healthcare_points_in_0.01            70     0    int64  \n",
              "osm_historic_points_in_0.005             33     0    int64  \n",
              "osm_historic_points_in_0.0075            57     0    int64  \n",
              "osm_historic_points_in_0.01              80     0    int64  \n",
              "osm_hotels_points_in_0.005               58     0    int64  \n",
              "osm_hotels_points_in_0.0075              86     0    int64  \n",
              "osm_hotels_points_in_0.01               101     0    int64  \n",
              "osm_leisure_points_in_0.005              27     0    int64  \n",
              "osm_leisure_points_in_0.0075             41     0    int64  \n",
              "osm_leisure_points_in_0.01               56     0    int64  \n",
              "osm_offices_points_in_0.001              10     0    int64  \n",
              "osm_offices_points_in_0.005              60     0    int64  \n",
              "osm_offices_points_in_0.0075             92     0    int64  \n",
              "osm_offices_points_in_0.01              125     0    int64  \n",
              "osm_shops_points_in_0.001                26     0    int64  \n",
              "osm_shops_points_in_0.005               229     0    int64  \n",
              "osm_shops_points_in_0.0075              334     0    int64  \n",
              "osm_shops_points_in_0.01                423     0    int64  \n",
              "osm_subway_closest_dist                3641     0  float64  \n",
              "osm_train_stop_closest_dist            3641     0  float64  \n",
              "osm_train_stop_points_in_0.005            9     0    int64  \n",
              "osm_train_stop_points_in_0.0075          10     0    int64  \n",
              "osm_train_stop_points_in_0.01            11     0    int64  \n",
              "osm_transport_stop_closest_dist        3641     0  float64  \n",
              "osm_transport_stop_points_in_0.005       33     0    int64  \n",
              "osm_transport_stop_points_in_0.0075      55     0    int64  \n",
              "osm_transport_stop_points_in_0.01        81     0    int64  \n",
              "per_square_meter_price                 4492     0  float64  \n",
              "reform_count_of_houses_1000             432     0    int64  \n",
              "reform_count_of_houses_500              167     0    int64  \n",
              "reform_house_population_1000           2311    55  float64  \n",
              "reform_house_population_500            1369    68  float64  \n",
              "reform_mean_floor_count_1000           3193    63  float64  \n",
              "reform_mean_floor_count_500            2469    78  float64  \n",
              "reform_mean_year_building_1000         3350    61  float64  \n",
              "reform_mean_year_building_500          3110    76  float64  \n",
              "region                                   48     0   object  \n",
              "total_square                           4492     0  float64  \n",
              "street                                 1625    17   object  \n",
              "date                                     34     0   object  \n",
              "realty_type                               3     0    int64  \n",
              "price_type                                1     0    int64  "
            ]
          },
          "metadata": {},
          "execution_count": 192
        }
      ]
    },
    {
      "cell_type": "code",
      "metadata": {
        "scrolled": false,
        "colab": {
          "base_uri": "https://localhost:8080/",
          "height": 1000
        },
        "id": "40ad811a",
        "outputId": "c6cdefaf-43d7-4086-b7e5-e6caf50d7bd2"
      },
      "source": [
        "getFeaturesInfo(test)"
      ],
      "id": "40ad811a",
      "execution_count": 193,
      "outputs": [
        {
          "output_type": "execute_result",
          "data": {
            "text/html": [
              "<div>\n",
              "<style scoped>\n",
              "    .dataframe tbody tr th:only-of-type {\n",
              "        vertical-align: middle;\n",
              "    }\n",
              "\n",
              "    .dataframe tbody tr th {\n",
              "        vertical-align: top;\n",
              "    }\n",
              "\n",
              "    .dataframe thead th {\n",
              "        text-align: right;\n",
              "    }\n",
              "</style>\n",
              "<table border=\"1\" class=\"dataframe\">\n",
              "  <thead>\n",
              "    <tr style=\"text-align: right;\">\n",
              "      <th></th>\n",
              "      <th>&lt;lambda&gt;</th>\n",
              "      <th>nunique</th>\n",
              "      <th>null</th>\n",
              "      <th>dtype</th>\n",
              "    </tr>\n",
              "  </thead>\n",
              "  <tbody>\n",
              "    <tr>\n",
              "      <th>city</th>\n",
              "      <td>[Курск, Сургут, Тюмень, Иркутск, Кемерово, Кра...</td>\n",
              "      <td>165</td>\n",
              "      <td>0</td>\n",
              "      <td>object</td>\n",
              "    </tr>\n",
              "    <tr>\n",
              "      <th>floor</th>\n",
              "      <td>[1.0, -1.0, nan, 2,3, 2, -2.0, 5.0, 4, 1, 5]</td>\n",
              "      <td>74</td>\n",
              "      <td>1301</td>\n",
              "      <td>object</td>\n",
              "    </tr>\n",
              "    <tr>\n",
              "      <th>id</th>\n",
              "      <td>[COL_289284, COL_289305, COL_289318, COL_28935...</td>\n",
              "      <td>2974</td>\n",
              "      <td>0</td>\n",
              "      <td>object</td>\n",
              "    </tr>\n",
              "    <tr>\n",
              "      <th>osm_amenity_points_in_0.001</th>\n",
              "      <td>[7, 8, 3, 5, 0, 1, 18, 12, 2, 9]</td>\n",
              "      <td>34</td>\n",
              "      <td>0</td>\n",
              "      <td>int64</td>\n",
              "    </tr>\n",
              "    <tr>\n",
              "      <th>osm_amenity_points_in_0.005</th>\n",
              "      <td>[55, 70, 28, 76, 105, 18, 5, 20, 61, 31]</td>\n",
              "      <td>262</td>\n",
              "      <td>0</td>\n",
              "      <td>int64</td>\n",
              "    </tr>\n",
              "    <tr>\n",
              "      <th>osm_amenity_points_in_0.0075</th>\n",
              "      <td>[85, 112, 67, 139, 189, 30, 7, 39, 83, 46]</td>\n",
              "      <td>386</td>\n",
              "      <td>0</td>\n",
              "      <td>int64</td>\n",
              "    </tr>\n",
              "    <tr>\n",
              "      <th>osm_amenity_points_in_0.01</th>\n",
              "      <td>[117, 140, 122, 231, 279, 33, 20, 85, 125, 64]</td>\n",
              "      <td>507</td>\n",
              "      <td>0</td>\n",
              "      <td>int64</td>\n",
              "    </tr>\n",
              "    <tr>\n",
              "      <th>osm_building_points_in_0.001</th>\n",
              "      <td>[0, 2, 1, 4]</td>\n",
              "      <td>4</td>\n",
              "      <td>0</td>\n",
              "      <td>int64</td>\n",
              "    </tr>\n",
              "    <tr>\n",
              "      <th>osm_building_points_in_0.005</th>\n",
              "      <td>[0, 8, 1, 13, 2, 16, 9, 4, 3, 5]</td>\n",
              "      <td>17</td>\n",
              "      <td>0</td>\n",
              "      <td>int64</td>\n",
              "    </tr>\n",
              "    <tr>\n",
              "      <th>osm_building_points_in_0.0075</th>\n",
              "      <td>[0, 2, 10, 1, 22, 32, 11, 3, 4, 6]</td>\n",
              "      <td>24</td>\n",
              "      <td>0</td>\n",
              "      <td>int64</td>\n",
              "    </tr>\n",
              "    <tr>\n",
              "      <th>osm_building_points_in_0.01</th>\n",
              "      <td>[0, 9, 19, 1, 2, 24, 3, 54, 14, 5]</td>\n",
              "      <td>31</td>\n",
              "      <td>0</td>\n",
              "      <td>int64</td>\n",
              "    </tr>\n",
              "    <tr>\n",
              "      <th>osm_catering_points_in_0.001</th>\n",
              "      <td>[0, 1, 4, 2, 5, 9, 3, 8, 7, 12]</td>\n",
              "      <td>19</td>\n",
              "      <td>0</td>\n",
              "      <td>int64</td>\n",
              "    </tr>\n",
              "    <tr>\n",
              "      <th>osm_catering_points_in_0.005</th>\n",
              "      <td>[2, 7, 9, 28, 24, 6, 0, 3, 5, 144]</td>\n",
              "      <td>127</td>\n",
              "      <td>0</td>\n",
              "      <td>int64</td>\n",
              "    </tr>\n",
              "    <tr>\n",
              "      <th>osm_catering_points_in_0.0075</th>\n",
              "      <td>[6, 8, 18, 52, 40, 9, 0, 10, 5, 284]</td>\n",
              "      <td>171</td>\n",
              "      <td>0</td>\n",
              "      <td>int64</td>\n",
              "    </tr>\n",
              "    <tr>\n",
              "      <th>osm_catering_points_in_0.01</th>\n",
              "      <td>[10, 13, 34, 84, 54, 9, 0, 23, 12, 5]</td>\n",
              "      <td>222</td>\n",
              "      <td>0</td>\n",
              "      <td>int64</td>\n",
              "    </tr>\n",
              "    <tr>\n",
              "      <th>osm_city_closest_dist</th>\n",
              "      <td>[4.101661259801608, 4.084248524967657, 1.29197...</td>\n",
              "      <td>2462</td>\n",
              "      <td>0</td>\n",
              "      <td>float64</td>\n",
              "    </tr>\n",
              "    <tr>\n",
              "      <th>osm_city_nearest_name</th>\n",
              "      <td>[Курск, Сургут, Тюмень, Иркутск, Кемерово, Кра...</td>\n",
              "      <td>103</td>\n",
              "      <td>0</td>\n",
              "      <td>object</td>\n",
              "    </tr>\n",
              "    <tr>\n",
              "      <th>osm_city_nearest_population</th>\n",
              "      <td>[443212.0, 380632.0, 744554.0, 623562.0, 55866...</td>\n",
              "      <td>103</td>\n",
              "      <td>0</td>\n",
              "      <td>float64</td>\n",
              "    </tr>\n",
              "    <tr>\n",
              "      <th>osm_crossing_closest_dist</th>\n",
              "      <td>[0.1470720187123729, 0.16247998735214314, 0.07...</td>\n",
              "      <td>2462</td>\n",
              "      <td>0</td>\n",
              "      <td>float64</td>\n",
              "    </tr>\n",
              "    <tr>\n",
              "      <th>osm_crossing_points_in_0.001</th>\n",
              "      <td>[0, 1, 3, 2, 4, 5, 9, 6, 8, 7]</td>\n",
              "      <td>11</td>\n",
              "      <td>0</td>\n",
              "      <td>int64</td>\n",
              "    </tr>\n",
              "    <tr>\n",
              "      <th>osm_crossing_points_in_0.005</th>\n",
              "      <td>[7, 18, 21, 30, 40, 13, 0, 23, 34, 11]</td>\n",
              "      <td>74</td>\n",
              "      <td>0</td>\n",
              "      <td>int64</td>\n",
              "    </tr>\n",
              "    <tr>\n",
              "      <th>osm_crossing_points_in_0.0075</th>\n",
              "      <td>[7, 33, 57, 60, 72, 15, 0, 23, 35, 9]</td>\n",
              "      <td>133</td>\n",
              "      <td>0</td>\n",
              "      <td>int64</td>\n",
              "    </tr>\n",
              "    <tr>\n",
              "      <th>osm_crossing_points_in_0.01</th>\n",
              "      <td>[19, 50, 92, 95, 84, 17, 3, 41, 52, 12]</td>\n",
              "      <td>208</td>\n",
              "      <td>0</td>\n",
              "      <td>int64</td>\n",
              "    </tr>\n",
              "    <tr>\n",
              "      <th>osm_culture_points_in_0.001</th>\n",
              "      <td>[0, 1, 2, 3, 5, 4, 8, 12]</td>\n",
              "      <td>8</td>\n",
              "      <td>0</td>\n",
              "      <td>int64</td>\n",
              "    </tr>\n",
              "    <tr>\n",
              "      <th>osm_culture_points_in_0.005</th>\n",
              "      <td>[0, 8, 10, 2, 1, 19, 4, 7, 5, 6]</td>\n",
              "      <td>36</td>\n",
              "      <td>0</td>\n",
              "      <td>int64</td>\n",
              "    </tr>\n",
              "    <tr>\n",
              "      <th>osm_culture_points_in_0.0075</th>\n",
              "      <td>[0, 1, 13, 12, 2, 29, 8, 7, 11, 3]</td>\n",
              "      <td>57</td>\n",
              "      <td>0</td>\n",
              "      <td>int64</td>\n",
              "    </tr>\n",
              "    <tr>\n",
              "      <th>osm_culture_points_in_0.01</th>\n",
              "      <td>[0, 1, 2, 18, 12, 3, 49, 37, 29, 19]</td>\n",
              "      <td>79</td>\n",
              "      <td>0</td>\n",
              "      <td>int64</td>\n",
              "    </tr>\n",
              "    <tr>\n",
              "      <th>osm_finance_points_in_0.001</th>\n",
              "      <td>[1, 0, 3, 2, 4]</td>\n",
              "      <td>5</td>\n",
              "      <td>0</td>\n",
              "      <td>int64</td>\n",
              "    </tr>\n",
              "    <tr>\n",
              "      <th>osm_finance_points_in_0.005</th>\n",
              "      <td>[2, 1, 5, 10, 0, 11, 14, 3, 7, 4]</td>\n",
              "      <td>22</td>\n",
              "      <td>0</td>\n",
              "      <td>int64</td>\n",
              "    </tr>\n",
              "    <tr>\n",
              "      <th>osm_finance_points_in_0.0075</th>\n",
              "      <td>[3, 5, 4, 6, 14, 0, 1, 2, 12, 24]</td>\n",
              "      <td>36</td>\n",
              "      <td>0</td>\n",
              "      <td>int64</td>\n",
              "    </tr>\n",
              "    <tr>\n",
              "      <th>osm_finance_points_in_0.01</th>\n",
              "      <td>[3, 6, 5, 10, 21, 0, 1, 4, 15, 38]</td>\n",
              "      <td>51</td>\n",
              "      <td>0</td>\n",
              "      <td>int64</td>\n",
              "    </tr>\n",
              "    <tr>\n",
              "      <th>osm_healthcare_points_in_0.005</th>\n",
              "      <td>[5, 3, 2, 0, 1, 4, 7, 6, 9, 13]</td>\n",
              "      <td>27</td>\n",
              "      <td>0</td>\n",
              "      <td>int64</td>\n",
              "    </tr>\n",
              "    <tr>\n",
              "      <th>osm_healthcare_points_in_0.0075</th>\n",
              "      <td>[5, 6, 3, 8, 0, 2, 27, 1, 4, 7]</td>\n",
              "      <td>48</td>\n",
              "      <td>0</td>\n",
              "      <td>int64</td>\n",
              "    </tr>\n",
              "    <tr>\n",
              "      <th>osm_healthcare_points_in_0.01</th>\n",
              "      <td>[5, 8, 3, 12, 6, 0, 52, 2, 1, 4]</td>\n",
              "      <td>65</td>\n",
              "      <td>0</td>\n",
              "      <td>int64</td>\n",
              "    </tr>\n",
              "    <tr>\n",
              "      <th>osm_historic_points_in_0.005</th>\n",
              "      <td>[2, 1, 12, 10, 0, 6, 8, 7, 3, 4]</td>\n",
              "      <td>33</td>\n",
              "      <td>0</td>\n",
              "      <td>int64</td>\n",
              "    </tr>\n",
              "    <tr>\n",
              "      <th>osm_historic_points_in_0.0075</th>\n",
              "      <td>[2, 1, 20, 14, 0, 12, 15, 4, 17, 11]</td>\n",
              "      <td>54</td>\n",
              "      <td>0</td>\n",
              "      <td>int64</td>\n",
              "    </tr>\n",
              "    <tr>\n",
              "      <th>osm_historic_points_in_0.01</th>\n",
              "      <td>[4, 1, 5, 32, 17, 0, 2, 18, 22, 7]</td>\n",
              "      <td>74</td>\n",
              "      <td>0</td>\n",
              "      <td>int64</td>\n",
              "    </tr>\n",
              "    <tr>\n",
              "      <th>osm_hotels_points_in_0.005</th>\n",
              "      <td>[7, 3, 0, 1, 4, 2, 50, 39, 5, 37]</td>\n",
              "      <td>56</td>\n",
              "      <td>0</td>\n",
              "      <td>int64</td>\n",
              "    </tr>\n",
              "    <tr>\n",
              "      <th>osm_hotels_points_in_0.0075</th>\n",
              "      <td>[7, 5, 1, 8, 2, 0, 4, 3, 86, 90]</td>\n",
              "      <td>75</td>\n",
              "      <td>0</td>\n",
              "      <td>int64</td>\n",
              "    </tr>\n",
              "    <tr>\n",
              "      <th>osm_hotels_points_in_0.01</th>\n",
              "      <td>[8, 5, 1, 18, 2, 0, 139, 3, 6, 7]</td>\n",
              "      <td>82</td>\n",
              "      <td>0</td>\n",
              "      <td>int64</td>\n",
              "    </tr>\n",
              "    <tr>\n",
              "      <th>osm_leisure_points_in_0.005</th>\n",
              "      <td>[0, 3, 1, 4, 2, 10, 6, 7, 8, 12]</td>\n",
              "      <td>25</td>\n",
              "      <td>0</td>\n",
              "      <td>int64</td>\n",
              "    </tr>\n",
              "    <tr>\n",
              "      <th>osm_leisure_points_in_0.0075</th>\n",
              "      <td>[0, 6, 2, 5, 3, 1, 23, 7, 9, 8]</td>\n",
              "      <td>38</td>\n",
              "      <td>0</td>\n",
              "      <td>int64</td>\n",
              "    </tr>\n",
              "    <tr>\n",
              "      <th>osm_leisure_points_in_0.01</th>\n",
              "      <td>[1, 7, 5, 12, 0, 3, 8, 49, 4, 14]</td>\n",
              "      <td>56</td>\n",
              "      <td>0</td>\n",
              "      <td>int64</td>\n",
              "    </tr>\n",
              "    <tr>\n",
              "      <th>osm_offices_points_in_0.001</th>\n",
              "      <td>[0, 4, 1, 9, 2, 5, 8, 6, 3, 7]</td>\n",
              "      <td>10</td>\n",
              "      <td>0</td>\n",
              "      <td>int64</td>\n",
              "    </tr>\n",
              "    <tr>\n",
              "      <th>osm_offices_points_in_0.005</th>\n",
              "      <td>[0, 3, 1, 7, 2, 5, 56, 6, 11, 4]</td>\n",
              "      <td>57</td>\n",
              "      <td>0</td>\n",
              "      <td>int64</td>\n",
              "    </tr>\n",
              "    <tr>\n",
              "      <th>osm_offices_points_in_0.0075</th>\n",
              "      <td>[0, 5, 1, 11, 12, 2, 3, 97, 4, 8]</td>\n",
              "      <td>84</td>\n",
              "      <td>0</td>\n",
              "      <td>int64</td>\n",
              "    </tr>\n",
              "    <tr>\n",
              "      <th>osm_offices_points_in_0.01</th>\n",
              "      <td>[1, 8, 3, 16, 2, 6, 9, 0, 147, 4]</td>\n",
              "      <td>116</td>\n",
              "      <td>0</td>\n",
              "      <td>int64</td>\n",
              "    </tr>\n",
              "    <tr>\n",
              "      <th>osm_shops_points_in_0.001</th>\n",
              "      <td>[5, 4, 3, 1, 0, 12, 11, 2, 6, 8]</td>\n",
              "      <td>25</td>\n",
              "      <td>0</td>\n",
              "      <td>int64</td>\n",
              "    </tr>\n",
              "    <tr>\n",
              "      <th>osm_shops_points_in_0.005</th>\n",
              "      <td>[36, 51, 15, 14, 49, 8, 5, 34, 19, 261]</td>\n",
              "      <td>184</td>\n",
              "      <td>0</td>\n",
              "      <td>int64</td>\n",
              "    </tr>\n",
              "    <tr>\n",
              "      <th>osm_shops_points_in_0.0075</th>\n",
              "      <td>[61, 81, 34, 26, 98, 14, 5, 19, 47, 30]</td>\n",
              "      <td>272</td>\n",
              "      <td>0</td>\n",
              "      <td>int64</td>\n",
              "    </tr>\n",
              "    <tr>\n",
              "      <th>osm_shops_points_in_0.01</th>\n",
              "      <td>[83, 99, 63, 51, 156, 16, 12, 39, 70, 41]</td>\n",
              "      <td>356</td>\n",
              "      <td>0</td>\n",
              "      <td>int64</td>\n",
              "    </tr>\n",
              "    <tr>\n",
              "      <th>osm_subway_closest_dist</th>\n",
              "      <td>[435.3635350570616, 693.4479309928442, 298.904...</td>\n",
              "      <td>2461</td>\n",
              "      <td>0</td>\n",
              "      <td>float64</td>\n",
              "    </tr>\n",
              "    <tr>\n",
              "      <th>osm_train_stop_closest_dist</th>\n",
              "      <td>[5.636811180230571, 9.64159060244686, 1.803999...</td>\n",
              "      <td>2462</td>\n",
              "      <td>0</td>\n",
              "      <td>float64</td>\n",
              "    </tr>\n",
              "    <tr>\n",
              "      <th>osm_train_stop_points_in_0.005</th>\n",
              "      <td>[0, 1, 3, 2, 5, 8, 4, 9, 6]</td>\n",
              "      <td>9</td>\n",
              "      <td>0</td>\n",
              "      <td>int64</td>\n",
              "    </tr>\n",
              "    <tr>\n",
              "      <th>osm_train_stop_points_in_0.0075</th>\n",
              "      <td>[0, 2, 5, 1, 3, 8, 4, 6, 9, 7]</td>\n",
              "      <td>10</td>\n",
              "      <td>0</td>\n",
              "      <td>int64</td>\n",
              "    </tr>\n",
              "    <tr>\n",
              "      <th>osm_train_stop_points_in_0.01</th>\n",
              "      <td>[0, 2, 8, 1, 3, 7, 4, 5, 10, 9]</td>\n",
              "      <td>11</td>\n",
              "      <td>0</td>\n",
              "      <td>int64</td>\n",
              "    </tr>\n",
              "    <tr>\n",
              "      <th>osm_transport_stop_closest_dist</th>\n",
              "      <td>[0.10866789168973716, 0.09141639518891898, 0.1...</td>\n",
              "      <td>2462</td>\n",
              "      <td>0</td>\n",
              "      <td>float64</td>\n",
              "    </tr>\n",
              "    <tr>\n",
              "      <th>osm_transport_stop_points_in_0.005</th>\n",
              "      <td>[11, 9, 6, 12, 7, 5, 4, 25, 8, 3]</td>\n",
              "      <td>32</td>\n",
              "      <td>0</td>\n",
              "      <td>int64</td>\n",
              "    </tr>\n",
              "    <tr>\n",
              "      <th>osm_transport_stop_points_in_0.0075</th>\n",
              "      <td>[15, 11, 20, 18, 26, 12, 7, 9, 47, 29]</td>\n",
              "      <td>54</td>\n",
              "      <td>0</td>\n",
              "      <td>int64</td>\n",
              "    </tr>\n",
              "    <tr>\n",
              "      <th>osm_transport_stop_points_in_0.01</th>\n",
              "      <td>[27, 19, 29, 37, 12, 13, 16, 55, 15, 59]</td>\n",
              "      <td>78</td>\n",
              "      <td>0</td>\n",
              "      <td>int64</td>\n",
              "    </tr>\n",
              "    <tr>\n",
              "      <th>reform_count_of_houses_1000</th>\n",
              "      <td>[184, 118, 150, 252, 114, 62, 55, 105, 176, 100]</td>\n",
              "      <td>407</td>\n",
              "      <td>0</td>\n",
              "      <td>int64</td>\n",
              "    </tr>\n",
              "    <tr>\n",
              "      <th>reform_count_of_houses_500</th>\n",
              "      <td>[78, 44, 51, 86, 31, 27, 18, 23, 39, 42]</td>\n",
              "      <td>159</td>\n",
              "      <td>0</td>\n",
              "      <td>int64</td>\n",
              "    </tr>\n",
              "    <tr>\n",
              "      <th>reform_house_population_1000</th>\n",
              "      <td>[1997.0, 2823.0, 3484.0, 1975.0, 1044.0, 489.0...</td>\n",
              "      <td>1760</td>\n",
              "      <td>35</td>\n",
              "      <td>float64</td>\n",
              "    </tr>\n",
              "    <tr>\n",
              "      <th>reform_house_population_500</th>\n",
              "      <td>[743.0, 1019.0, 1332.0, 666.0, 394.0, 260.0, 5...</td>\n",
              "      <td>1159</td>\n",
              "      <td>48</td>\n",
              "      <td>float64</td>\n",
              "    </tr>\n",
              "    <tr>\n",
              "      <th>reform_mean_floor_count_1000</th>\n",
              "      <td>[4.325, 5.389830508474576, 7.915492957746477, ...</td>\n",
              "      <td>2219</td>\n",
              "      <td>35</td>\n",
              "      <td>float64</td>\n",
              "    </tr>\n",
              "    <tr>\n",
              "      <th>reform_mean_floor_count_500</th>\n",
              "      <td>[4.211267605633803, 5.5, 8.25, 3.0120481927710...</td>\n",
              "      <td>1786</td>\n",
              "      <td>48</td>\n",
              "      <td>float64</td>\n",
              "    </tr>\n",
              "    <tr>\n",
              "      <th>reform_mean_year_building_1000</th>\n",
              "      <td>[1966.471590909091, 1988.2592592592605, 1985.8...</td>\n",
              "      <td>2298</td>\n",
              "      <td>35</td>\n",
              "      <td>float64</td>\n",
              "    </tr>\n",
              "    <tr>\n",
              "      <th>reform_mean_year_building_500</th>\n",
              "      <td>[1966.74025974026, 1989.068181818181, 1991.458...</td>\n",
              "      <td>2155</td>\n",
              "      <td>48</td>\n",
              "      <td>float64</td>\n",
              "    </tr>\n",
              "    <tr>\n",
              "      <th>region</th>\n",
              "      <td>[Курская область, Ханты-Мансийский АО, Тюменск...</td>\n",
              "      <td>47</td>\n",
              "      <td>0</td>\n",
              "      <td>object</td>\n",
              "    </tr>\n",
              "    <tr>\n",
              "      <th>lat</th>\n",
              "      <td>[51.709255, 61.23324, 57.14311, 52.28138, 51.7...</td>\n",
              "      <td>2433</td>\n",
              "      <td>0</td>\n",
              "      <td>float64</td>\n",
              "    </tr>\n",
              "    <tr>\n",
              "      <th>lng</th>\n",
              "      <td>[36.14790822132834, 73.46250892220776, 65.5545...</td>\n",
              "      <td>2974</td>\n",
              "      <td>0</td>\n",
              "      <td>float64</td>\n",
              "    </tr>\n",
              "    <tr>\n",
              "      <th>total_square</th>\n",
              "      <td>[156.14899551575306, 190.73794287637688, 457.1...</td>\n",
              "      <td>2974</td>\n",
              "      <td>0</td>\n",
              "      <td>float64</td>\n",
              "    </tr>\n",
              "    <tr>\n",
              "      <th>street</th>\n",
              "      <td>[S6983, S29120, S23731, S14207, S20658, S14771...</td>\n",
              "      <td>1138</td>\n",
              "      <td>6</td>\n",
              "      <td>object</td>\n",
              "    </tr>\n",
              "    <tr>\n",
              "      <th>date</th>\n",
              "      <td>[2020-09-06, 2020-09-13, 2020-09-20, 2020-09-2...</td>\n",
              "      <td>17</td>\n",
              "      <td>0</td>\n",
              "      <td>object</td>\n",
              "    </tr>\n",
              "    <tr>\n",
              "      <th>realty_type</th>\n",
              "      <td>[100, 110, 10]</td>\n",
              "      <td>3</td>\n",
              "      <td>0</td>\n",
              "      <td>int64</td>\n",
              "    </tr>\n",
              "    <tr>\n",
              "      <th>price_type</th>\n",
              "      <td>[1]</td>\n",
              "      <td>1</td>\n",
              "      <td>0</td>\n",
              "      <td>int64</td>\n",
              "    </tr>\n",
              "  </tbody>\n",
              "</table>\n",
              "</div>"
            ],
            "text/plain": [
              "                                                                              <lambda>  \\\n",
              "city                                 [Курск, Сургут, Тюмень, Иркутск, Кемерово, Кра...   \n",
              "floor                                     [1.0, -1.0, nan, 2,3, 2, -2.0, 5.0, 4, 1, 5]   \n",
              "id                                   [COL_289284, COL_289305, COL_289318, COL_28935...   \n",
              "osm_amenity_points_in_0.001                           [7, 8, 3, 5, 0, 1, 18, 12, 2, 9]   \n",
              "osm_amenity_points_in_0.005                   [55, 70, 28, 76, 105, 18, 5, 20, 61, 31]   \n",
              "osm_amenity_points_in_0.0075                [85, 112, 67, 139, 189, 30, 7, 39, 83, 46]   \n",
              "osm_amenity_points_in_0.01              [117, 140, 122, 231, 279, 33, 20, 85, 125, 64]   \n",
              "osm_building_points_in_0.001                                              [0, 2, 1, 4]   \n",
              "osm_building_points_in_0.005                          [0, 8, 1, 13, 2, 16, 9, 4, 3, 5]   \n",
              "osm_building_points_in_0.0075                       [0, 2, 10, 1, 22, 32, 11, 3, 4, 6]   \n",
              "osm_building_points_in_0.01                         [0, 9, 19, 1, 2, 24, 3, 54, 14, 5]   \n",
              "osm_catering_points_in_0.001                           [0, 1, 4, 2, 5, 9, 3, 8, 7, 12]   \n",
              "osm_catering_points_in_0.005                        [2, 7, 9, 28, 24, 6, 0, 3, 5, 144]   \n",
              "osm_catering_points_in_0.0075                     [6, 8, 18, 52, 40, 9, 0, 10, 5, 284]   \n",
              "osm_catering_points_in_0.01                      [10, 13, 34, 84, 54, 9, 0, 23, 12, 5]   \n",
              "osm_city_closest_dist                [4.101661259801608, 4.084248524967657, 1.29197...   \n",
              "osm_city_nearest_name                [Курск, Сургут, Тюмень, Иркутск, Кемерово, Кра...   \n",
              "osm_city_nearest_population          [443212.0, 380632.0, 744554.0, 623562.0, 55866...   \n",
              "osm_crossing_closest_dist            [0.1470720187123729, 0.16247998735214314, 0.07...   \n",
              "osm_crossing_points_in_0.001                            [0, 1, 3, 2, 4, 5, 9, 6, 8, 7]   \n",
              "osm_crossing_points_in_0.005                    [7, 18, 21, 30, 40, 13, 0, 23, 34, 11]   \n",
              "osm_crossing_points_in_0.0075                    [7, 33, 57, 60, 72, 15, 0, 23, 35, 9]   \n",
              "osm_crossing_points_in_0.01                    [19, 50, 92, 95, 84, 17, 3, 41, 52, 12]   \n",
              "osm_culture_points_in_0.001                                  [0, 1, 2, 3, 5, 4, 8, 12]   \n",
              "osm_culture_points_in_0.005                           [0, 8, 10, 2, 1, 19, 4, 7, 5, 6]   \n",
              "osm_culture_points_in_0.0075                        [0, 1, 13, 12, 2, 29, 8, 7, 11, 3]   \n",
              "osm_culture_points_in_0.01                        [0, 1, 2, 18, 12, 3, 49, 37, 29, 19]   \n",
              "osm_finance_points_in_0.001                                            [1, 0, 3, 2, 4]   \n",
              "osm_finance_points_in_0.005                          [2, 1, 5, 10, 0, 11, 14, 3, 7, 4]   \n",
              "osm_finance_points_in_0.0075                         [3, 5, 4, 6, 14, 0, 1, 2, 12, 24]   \n",
              "osm_finance_points_in_0.01                          [3, 6, 5, 10, 21, 0, 1, 4, 15, 38]   \n",
              "osm_healthcare_points_in_0.005                         [5, 3, 2, 0, 1, 4, 7, 6, 9, 13]   \n",
              "osm_healthcare_points_in_0.0075                        [5, 6, 3, 8, 0, 2, 27, 1, 4, 7]   \n",
              "osm_healthcare_points_in_0.01                         [5, 8, 3, 12, 6, 0, 52, 2, 1, 4]   \n",
              "osm_historic_points_in_0.005                          [2, 1, 12, 10, 0, 6, 8, 7, 3, 4]   \n",
              "osm_historic_points_in_0.0075                     [2, 1, 20, 14, 0, 12, 15, 4, 17, 11]   \n",
              "osm_historic_points_in_0.01                         [4, 1, 5, 32, 17, 0, 2, 18, 22, 7]   \n",
              "osm_hotels_points_in_0.005                           [7, 3, 0, 1, 4, 2, 50, 39, 5, 37]   \n",
              "osm_hotels_points_in_0.0075                           [7, 5, 1, 8, 2, 0, 4, 3, 86, 90]   \n",
              "osm_hotels_points_in_0.01                            [8, 5, 1, 18, 2, 0, 139, 3, 6, 7]   \n",
              "osm_leisure_points_in_0.005                           [0, 3, 1, 4, 2, 10, 6, 7, 8, 12]   \n",
              "osm_leisure_points_in_0.0075                           [0, 6, 2, 5, 3, 1, 23, 7, 9, 8]   \n",
              "osm_leisure_points_in_0.01                           [1, 7, 5, 12, 0, 3, 8, 49, 4, 14]   \n",
              "osm_offices_points_in_0.001                             [0, 4, 1, 9, 2, 5, 8, 6, 3, 7]   \n",
              "osm_offices_points_in_0.005                           [0, 3, 1, 7, 2, 5, 56, 6, 11, 4]   \n",
              "osm_offices_points_in_0.0075                         [0, 5, 1, 11, 12, 2, 3, 97, 4, 8]   \n",
              "osm_offices_points_in_0.01                           [1, 8, 3, 16, 2, 6, 9, 0, 147, 4]   \n",
              "osm_shops_points_in_0.001                             [5, 4, 3, 1, 0, 12, 11, 2, 6, 8]   \n",
              "osm_shops_points_in_0.005                      [36, 51, 15, 14, 49, 8, 5, 34, 19, 261]   \n",
              "osm_shops_points_in_0.0075                     [61, 81, 34, 26, 98, 14, 5, 19, 47, 30]   \n",
              "osm_shops_points_in_0.01                     [83, 99, 63, 51, 156, 16, 12, 39, 70, 41]   \n",
              "osm_subway_closest_dist              [435.3635350570616, 693.4479309928442, 298.904...   \n",
              "osm_train_stop_closest_dist          [5.636811180230571, 9.64159060244686, 1.803999...   \n",
              "osm_train_stop_points_in_0.005                             [0, 1, 3, 2, 5, 8, 4, 9, 6]   \n",
              "osm_train_stop_points_in_0.0075                         [0, 2, 5, 1, 3, 8, 4, 6, 9, 7]   \n",
              "osm_train_stop_points_in_0.01                          [0, 2, 8, 1, 3, 7, 4, 5, 10, 9]   \n",
              "osm_transport_stop_closest_dist      [0.10866789168973716, 0.09141639518891898, 0.1...   \n",
              "osm_transport_stop_points_in_0.005                   [11, 9, 6, 12, 7, 5, 4, 25, 8, 3]   \n",
              "osm_transport_stop_points_in_0.0075             [15, 11, 20, 18, 26, 12, 7, 9, 47, 29]   \n",
              "osm_transport_stop_points_in_0.01             [27, 19, 29, 37, 12, 13, 16, 55, 15, 59]   \n",
              "reform_count_of_houses_1000           [184, 118, 150, 252, 114, 62, 55, 105, 176, 100]   \n",
              "reform_count_of_houses_500                    [78, 44, 51, 86, 31, 27, 18, 23, 39, 42]   \n",
              "reform_house_population_1000         [1997.0, 2823.0, 3484.0, 1975.0, 1044.0, 489.0...   \n",
              "reform_house_population_500          [743.0, 1019.0, 1332.0, 666.0, 394.0, 260.0, 5...   \n",
              "reform_mean_floor_count_1000         [4.325, 5.389830508474576, 7.915492957746477, ...   \n",
              "reform_mean_floor_count_500          [4.211267605633803, 5.5, 8.25, 3.0120481927710...   \n",
              "reform_mean_year_building_1000       [1966.471590909091, 1988.2592592592605, 1985.8...   \n",
              "reform_mean_year_building_500        [1966.74025974026, 1989.068181818181, 1991.458...   \n",
              "region                               [Курская область, Ханты-Мансийский АО, Тюменск...   \n",
              "lat                                  [51.709255, 61.23324, 57.14311, 52.28138, 51.7...   \n",
              "lng                                  [36.14790822132834, 73.46250892220776, 65.5545...   \n",
              "total_square                         [156.14899551575306, 190.73794287637688, 457.1...   \n",
              "street                               [S6983, S29120, S23731, S14207, S20658, S14771...   \n",
              "date                                 [2020-09-06, 2020-09-13, 2020-09-20, 2020-09-2...   \n",
              "realty_type                                                             [100, 110, 10]   \n",
              "price_type                                                                         [1]   \n",
              "\n",
              "                                    nunique  null    dtype  \n",
              "city                                    165     0   object  \n",
              "floor                                    74  1301   object  \n",
              "id                                     2974     0   object  \n",
              "osm_amenity_points_in_0.001              34     0    int64  \n",
              "osm_amenity_points_in_0.005             262     0    int64  \n",
              "osm_amenity_points_in_0.0075            386     0    int64  \n",
              "osm_amenity_points_in_0.01              507     0    int64  \n",
              "osm_building_points_in_0.001              4     0    int64  \n",
              "osm_building_points_in_0.005             17     0    int64  \n",
              "osm_building_points_in_0.0075            24     0    int64  \n",
              "osm_building_points_in_0.01              31     0    int64  \n",
              "osm_catering_points_in_0.001             19     0    int64  \n",
              "osm_catering_points_in_0.005            127     0    int64  \n",
              "osm_catering_points_in_0.0075           171     0    int64  \n",
              "osm_catering_points_in_0.01             222     0    int64  \n",
              "osm_city_closest_dist                  2462     0  float64  \n",
              "osm_city_nearest_name                   103     0   object  \n",
              "osm_city_nearest_population             103     0  float64  \n",
              "osm_crossing_closest_dist              2462     0  float64  \n",
              "osm_crossing_points_in_0.001             11     0    int64  \n",
              "osm_crossing_points_in_0.005             74     0    int64  \n",
              "osm_crossing_points_in_0.0075           133     0    int64  \n",
              "osm_crossing_points_in_0.01             208     0    int64  \n",
              "osm_culture_points_in_0.001               8     0    int64  \n",
              "osm_culture_points_in_0.005              36     0    int64  \n",
              "osm_culture_points_in_0.0075             57     0    int64  \n",
              "osm_culture_points_in_0.01               79     0    int64  \n",
              "osm_finance_points_in_0.001               5     0    int64  \n",
              "osm_finance_points_in_0.005              22     0    int64  \n",
              "osm_finance_points_in_0.0075             36     0    int64  \n",
              "osm_finance_points_in_0.01               51     0    int64  \n",
              "osm_healthcare_points_in_0.005           27     0    int64  \n",
              "osm_healthcare_points_in_0.0075          48     0    int64  \n",
              "osm_healthcare_points_in_0.01            65     0    int64  \n",
              "osm_historic_points_in_0.005             33     0    int64  \n",
              "osm_historic_points_in_0.0075            54     0    int64  \n",
              "osm_historic_points_in_0.01              74     0    int64  \n",
              "osm_hotels_points_in_0.005               56     0    int64  \n",
              "osm_hotels_points_in_0.0075              75     0    int64  \n",
              "osm_hotels_points_in_0.01                82     0    int64  \n",
              "osm_leisure_points_in_0.005              25     0    int64  \n",
              "osm_leisure_points_in_0.0075             38     0    int64  \n",
              "osm_leisure_points_in_0.01               56     0    int64  \n",
              "osm_offices_points_in_0.001              10     0    int64  \n",
              "osm_offices_points_in_0.005              57     0    int64  \n",
              "osm_offices_points_in_0.0075             84     0    int64  \n",
              "osm_offices_points_in_0.01              116     0    int64  \n",
              "osm_shops_points_in_0.001                25     0    int64  \n",
              "osm_shops_points_in_0.005               184     0    int64  \n",
              "osm_shops_points_in_0.0075              272     0    int64  \n",
              "osm_shops_points_in_0.01                356     0    int64  \n",
              "osm_subway_closest_dist                2461     0  float64  \n",
              "osm_train_stop_closest_dist            2462     0  float64  \n",
              "osm_train_stop_points_in_0.005            9     0    int64  \n",
              "osm_train_stop_points_in_0.0075          10     0    int64  \n",
              "osm_train_stop_points_in_0.01            11     0    int64  \n",
              "osm_transport_stop_closest_dist        2462     0  float64  \n",
              "osm_transport_stop_points_in_0.005       32     0    int64  \n",
              "osm_transport_stop_points_in_0.0075      54     0    int64  \n",
              "osm_transport_stop_points_in_0.01        78     0    int64  \n",
              "reform_count_of_houses_1000             407     0    int64  \n",
              "reform_count_of_houses_500              159     0    int64  \n",
              "reform_house_population_1000           1760    35  float64  \n",
              "reform_house_population_500            1159    48  float64  \n",
              "reform_mean_floor_count_1000           2219    35  float64  \n",
              "reform_mean_floor_count_500            1786    48  float64  \n",
              "reform_mean_year_building_1000         2298    35  float64  \n",
              "reform_mean_year_building_500          2155    48  float64  \n",
              "region                                   47     0   object  \n",
              "lat                                    2433     0  float64  \n",
              "lng                                    2974     0  float64  \n",
              "total_square                           2974     0  float64  \n",
              "street                                 1138     6   object  \n",
              "date                                     17     0   object  \n",
              "realty_type                               3     0    int64  \n",
              "price_type                                1     0    int64  "
            ]
          },
          "metadata": {},
          "execution_count": 193
        }
      ]
    },
    {
      "cell_type": "markdown",
      "metadata": {
        "id": "efbd85c4"
      },
      "source": [
        "## per_square_meter_price"
      ],
      "id": "efbd85c4"
    },
    {
      "cell_type": "code",
      "metadata": {
        "colab": {
          "base_uri": "https://localhost:8080/"
        },
        "id": "25bca5db",
        "outputId": "15a4b59b-b6f0-466f-a779-4dbbaaf0e5dd"
      },
      "source": [
        "train['per_square_meter_price'].isna().sum()"
      ],
      "id": "25bca5db",
      "execution_count": 194,
      "outputs": [
        {
          "output_type": "execute_result",
          "data": {
            "text/plain": [
              "0"
            ]
          },
          "metadata": {},
          "execution_count": 194
        }
      ]
    },
    {
      "cell_type": "code",
      "metadata": {
        "colab": {
          "base_uri": "https://localhost:8080/"
        },
        "id": "2ab854c7",
        "outputId": "fc635a30-70f2-4ee6-b614-fe2d1d407c95"
      },
      "source": [
        "train['per_square_meter_price'].sort_values().head()"
      ],
      "id": "2ab854c7",
      "execution_count": 195,
      "outputs": [
        {
          "output_type": "execute_result",
          "data": {
            "text/plain": [
              "279567     1095.943175\n",
              "279691     6710.338322\n",
              "278035     7799.008704\n",
              "278838     9279.601204\n",
              "277781    10460.663221\n",
              "Name: per_square_meter_price, dtype: float64"
            ]
          },
          "metadata": {},
          "execution_count": 195
        }
      ]
    },
    {
      "cell_type": "code",
      "metadata": {
        "colab": {
          "base_uri": "https://localhost:8080/"
        },
        "id": "dbad942c",
        "outputId": "af0b1563-0561-4dbe-a826-9986fc4e8cbe"
      },
      "source": [
        "train['per_square_meter_price'].sort_values().tail()"
      ],
      "id": "dbad942c",
      "execution_count": 196,
      "outputs": [
        {
          "output_type": "execute_result",
          "data": {
            "text/plain": [
              "278814    1.381949e+06\n",
              "275895    1.421424e+06\n",
              "275394    1.597727e+06\n",
              "277342    1.767103e+06\n",
              "278414    1.790993e+06\n",
              "Name: per_square_meter_price, dtype: float64"
            ]
          },
          "metadata": {},
          "execution_count": 196
        }
      ]
    },
    {
      "cell_type": "code",
      "metadata": {
        "id": "6c4bcafc"
      },
      "source": [
        "# PRICE_CORRECTOR = train.groupby('price_type')['per_square_meter_price'].mean()[0] / train.groupby('price_type')['per_square_meter_price'].mean()[1]\n",
        "# PRICE_CORRECTOR\n"
      ],
      "id": "6c4bcafc",
      "execution_count": 197,
      "outputs": []
    },
    {
      "cell_type": "code",
      "metadata": {
        "id": "52dcc91c"
      },
      "source": [
        ""
      ],
      "id": "52dcc91c",
      "execution_count": 197,
      "outputs": []
    },
    {
      "cell_type": "markdown",
      "metadata": {
        "id": "d74847fc"
      },
      "source": [
        "## city"
      ],
      "id": "d74847fc"
    },
    {
      "cell_type": "code",
      "metadata": {
        "colab": {
          "base_uri": "https://localhost:8080/"
        },
        "id": "07bd127c",
        "outputId": "49dc2773-c5e5-4910-ced8-b1554857d250"
      },
      "source": [
        "train['city'].isna().sum()"
      ],
      "id": "07bd127c",
      "execution_count": 198,
      "outputs": [
        {
          "output_type": "execute_result",
          "data": {
            "text/plain": [
              "0"
            ]
          },
          "metadata": {},
          "execution_count": 198
        }
      ]
    },
    {
      "cell_type": "code",
      "metadata": {
        "colab": {
          "base_uri": "https://localhost:8080/"
        },
        "id": "0a11454b",
        "outputId": "2eabe396-7042-4b7d-b722-7c7994af2a6b"
      },
      "source": [
        "test['city'].isna().sum()"
      ],
      "id": "0a11454b",
      "execution_count": 199,
      "outputs": [
        {
          "output_type": "execute_result",
          "data": {
            "text/plain": [
              "0"
            ]
          },
          "metadata": {},
          "execution_count": 199
        }
      ]
    },
    {
      "cell_type": "code",
      "metadata": {
        "id": "ac5f52ee"
      },
      "source": [
        "top_city = list(train['city'].value_counts().head(15).index)\n",
        "\n",
        "train['city'] = train['city'].apply(lambda x: x if x in top_city else 'other')\n",
        "test['city'] = test['city'].apply(lambda x: x if x in top_city else 'other')"
      ],
      "id": "ac5f52ee",
      "execution_count": 200,
      "outputs": []
    },
    {
      "cell_type": "code",
      "metadata": {
        "colab": {
          "base_uri": "https://localhost:8080/"
        },
        "id": "4227edf8",
        "outputId": "5c7d3662-d175-4d80-fecc-aa0e1b3e0891"
      },
      "source": [
        "train['city'].value_counts()"
      ],
      "id": "4227edf8",
      "execution_count": 201,
      "outputs": [
        {
          "output_type": "execute_result",
          "data": {
            "text/plain": [
              "other              1547\n",
              "Красноярск          543\n",
              "Санкт-Петербург     374\n",
              "Иркутск             358\n",
              "Томск               227\n",
              "Екатеринбург        193\n",
              "Кемерово            172\n",
              "Петрозаводск        160\n",
              "Нижний Новгород     159\n",
              "Новосибирск         133\n",
              "Брянск              120\n",
              "Белгород            114\n",
              "Курск               107\n",
              "Калуга              102\n",
              "Омск                 92\n",
              "Москва               91\n",
              "Name: city, dtype: int64"
            ]
          },
          "metadata": {},
          "execution_count": 201
        }
      ]
    },
    {
      "cell_type": "code",
      "metadata": {
        "colab": {
          "base_uri": "https://localhost:8080/"
        },
        "id": "a16cd164",
        "outputId": "d58d78fa-4d7d-437e-8630-ee20f4995d3a"
      },
      "source": [
        "test['city'].value_counts()"
      ],
      "id": "a16cd164",
      "execution_count": 202,
      "outputs": [
        {
          "output_type": "execute_result",
          "data": {
            "text/plain": [
              "other              1043\n",
              "Красноярск          405\n",
              "Иркутск             228\n",
              "Санкт-Петербург     205\n",
              "Томск               138\n",
              "Петрозаводск        136\n",
              "Екатеринбург        127\n",
              "Нижний Новгород      97\n",
              "Кемерово             94\n",
              "Белгород             82\n",
              "Новосибирск          81\n",
              "Курск                81\n",
              "Омск                 75\n",
              "Калуга               64\n",
              "Брянск               62\n",
              "Москва               56\n",
              "Name: city, dtype: int64"
            ]
          },
          "metadata": {},
          "execution_count": 202
        }
      ]
    },
    {
      "cell_type": "markdown",
      "metadata": {
        "id": "8c3a995d"
      },
      "source": [
        "## region"
      ],
      "id": "8c3a995d"
    },
    {
      "cell_type": "code",
      "metadata": {
        "id": "de4fbc0c"
      },
      "source": [
        "top_region = list(train['region'].value_counts().head(15).index)\n",
        "\n",
        "train['region'] = train['region'].apply(lambda x: x if x in top_region else 'other')\n",
        "test['region'] = test['region'].apply(lambda x: x if x in top_region else 'other')"
      ],
      "id": "de4fbc0c",
      "execution_count": 203,
      "outputs": []
    },
    {
      "cell_type": "code",
      "metadata": {
        "colab": {
          "base_uri": "https://localhost:8080/"
        },
        "id": "cb3a712a",
        "outputId": "cd1f906f-fba1-4ed1-b51f-f9b2997c77b1"
      },
      "source": [
        "train['region'].value_counts()"
      ],
      "id": "cb3a712a",
      "execution_count": 204,
      "outputs": [
        {
          "output_type": "execute_result",
          "data": {
            "text/plain": [
              "other                    1212\n",
              "Красноярский край         594\n",
              "Иркутская область         454\n",
              "Санкт-Петербург           356\n",
              "Кемеровская область       256\n",
              "Томская область           229\n",
              "Свердловская область      210\n",
              "Карелия                   181\n",
              "Нижегородская область     172\n",
              "Курская область           136\n",
              "Новосибирская область     133\n",
              "Калужская область         123\n",
              "Брянская область          122\n",
              "Белгородская область      118\n",
              "Орловская область         104\n",
              "Омская область             92\n",
              "Name: region, dtype: int64"
            ]
          },
          "metadata": {},
          "execution_count": 204
        }
      ]
    },
    {
      "cell_type": "code",
      "metadata": {
        "colab": {
          "base_uri": "https://localhost:8080/"
        },
        "id": "55f506fe",
        "outputId": "7e405d8d-ca11-4558-c191-3670ff371ac2"
      },
      "source": [
        "test['region'].value_counts()"
      ],
      "id": "55f506fe",
      "execution_count": 205,
      "outputs": [
        {
          "output_type": "execute_result",
          "data": {
            "text/plain": [
              "other                    847\n",
              "Красноярский край        436\n",
              "Иркутская область        285\n",
              "Санкт-Петербург          203\n",
              "Карелия                  144\n",
              "Томская область          142\n",
              "Свердловская область     138\n",
              "Кемеровская область      134\n",
              "Нижегородская область    101\n",
              "Курская область           95\n",
              "Новосибирская область     83\n",
              "Белгородская область      83\n",
              "Калужская область         80\n",
              "Омская область            75\n",
              "Брянская область          71\n",
              "Орловская область         57\n",
              "Name: region, dtype: int64"
            ]
          },
          "metadata": {},
          "execution_count": 205
        }
      ]
    },
    {
      "cell_type": "markdown",
      "metadata": {
        "id": "cec485ba"
      },
      "source": [
        "## floor"
      ],
      "id": "cec485ba"
    },
    {
      "cell_type": "code",
      "metadata": {
        "id": "9e6e7837"
      },
      "source": [
        "train['floor_empty'] = pd.isna(train['floor']).astype('uint8')\n",
        "test['floor_empty'] = pd.isna(test['floor']).astype('uint8')\n",
        "\n"
      ],
      "id": "9e6e7837",
      "execution_count": 206,
      "outputs": []
    },
    {
      "cell_type": "code",
      "metadata": {
        "id": "4db44058"
      },
      "source": [
        "train['floor_multi'] = train['floor'].apply(lambda x: 1 if ',' in str(x) else 0)\n",
        "test['floor_multi'] = test['floor'].apply(lambda x: 1 if ',' in str(x) else 0)\n"
      ],
      "id": "4db44058",
      "execution_count": 207,
      "outputs": []
    },
    {
      "cell_type": "code",
      "metadata": {
        "id": "0e7fa3f6"
      },
      "source": [
        "train['floor'].fillna(0.0, inplace=True)\n",
        "test['floor'].fillna(0.0, inplace=True)\n"
      ],
      "id": "0e7fa3f6",
      "execution_count": 208,
      "outputs": []
    },
    {
      "cell_type": "code",
      "metadata": {
        "id": "14e4f1e0"
      },
      "source": [
        "train['floor'] = train['floor'].apply(lambda x: 0 if 'цок' in str(x).lower()\n",
        "                                      or 'подва' in str(x).lower()\n",
        "                                      or 'этаж' in str(x).lower()\n",
        "                                      or 'манс' in str(x).lower()\n",
        "                                      or 'антрес' in str(x).lower()\n",
        "                                      or 'мезон' in str(x).lower()\n",
        "                                      or 'техн' in str(x).lower()\n",
        "                                      or ',' in str(x).lower()\n",
        "                                      or '-' in str(x).lower() else x)\n",
        "test['floor'] = test['floor'].apply(lambda x: 0 if 'цок' in str(x).lower()\n",
        "                                      or 'подва' in str(x).lower()\n",
        "                                      or 'этаж' in str(x).lower()\n",
        "                                      or 'манс' in str(x).lower()\n",
        "                                      or 'антрес' in str(x).lower()\n",
        "                                      or 'мезон' in str(x).lower()\n",
        "                                      or 'техн' in str(x).lower()\n",
        "                                      or ',' in str(x).lower()\n",
        "                                      or '-' in str(x).lower() else x)\n",
        "\n",
        "train['floor'] = train['floor'].apply(lambda x: int(float(str(x))))\n",
        "test['floor'] = test['floor'].apply(lambda x: int(float(str(x))))\n"
      ],
      "id": "14e4f1e0",
      "execution_count": 209,
      "outputs": []
    },
    {
      "cell_type": "markdown",
      "metadata": {
        "id": "14bdc0f1"
      },
      "source": [
        "## total_square"
      ],
      "id": "14bdc0f1"
    },
    {
      "cell_type": "code",
      "metadata": {
        "colab": {
          "base_uri": "https://localhost:8080/"
        },
        "id": "aee1e9ea",
        "outputId": "d0d19d89-174d-4c1f-cd03-a6e8bab04be9"
      },
      "source": [
        "train['total_square'].isna().sum()"
      ],
      "id": "aee1e9ea",
      "execution_count": 210,
      "outputs": [
        {
          "output_type": "execute_result",
          "data": {
            "text/plain": [
              "0"
            ]
          },
          "metadata": {},
          "execution_count": 210
        }
      ]
    },
    {
      "cell_type": "code",
      "metadata": {
        "colab": {
          "base_uri": "https://localhost:8080/"
        },
        "id": "89a0f978",
        "outputId": "c295e6ef-efc4-448d-dca1-d1762be1b545"
      },
      "source": [
        "test['total_square'].isna().sum()"
      ],
      "id": "89a0f978",
      "execution_count": 211,
      "outputs": [
        {
          "output_type": "execute_result",
          "data": {
            "text/plain": [
              "0"
            ]
          },
          "metadata": {},
          "execution_count": 211
        }
      ]
    },
    {
      "cell_type": "code",
      "metadata": {
        "scrolled": true,
        "id": "12f8c692"
      },
      "source": [
        "# train['total_square'].sort_values()"
      ],
      "id": "12f8c692",
      "execution_count": 212,
      "outputs": []
    },
    {
      "cell_type": "code",
      "metadata": {
        "id": "9cd61826"
      },
      "source": [
        "# test['total_square'].sort_values()"
      ],
      "id": "9cd61826",
      "execution_count": 213,
      "outputs": []
    },
    {
      "cell_type": "markdown",
      "metadata": {
        "id": "d8e2d164"
      },
      "source": [
        "## price_type"
      ],
      "id": "d8e2d164"
    },
    {
      "cell_type": "code",
      "metadata": {
        "colab": {
          "base_uri": "https://localhost:8080/"
        },
        "id": "b08f5773",
        "outputId": "af0de471-6fe6-4187-e62e-737f335ce1f3"
      },
      "source": [
        "train['price_type'].value_counts()"
      ],
      "id": "b08f5773",
      "execution_count": 214,
      "outputs": [
        {
          "output_type": "execute_result",
          "data": {
            "text/plain": [
              "1    4492\n",
              "Name: price_type, dtype: int64"
            ]
          },
          "metadata": {},
          "execution_count": 214
        }
      ]
    },
    {
      "cell_type": "code",
      "metadata": {
        "colab": {
          "base_uri": "https://localhost:8080/"
        },
        "id": "6b3a324d",
        "outputId": "e6df635d-d36a-4093-aab9-e6b893b7004d"
      },
      "source": [
        "test['price_type'].value_counts()"
      ],
      "id": "6b3a324d",
      "execution_count": 215,
      "outputs": [
        {
          "output_type": "execute_result",
          "data": {
            "text/plain": [
              "1    2974\n",
              "Name: price_type, dtype: int64"
            ]
          },
          "metadata": {},
          "execution_count": 215
        }
      ]
    },
    {
      "cell_type": "markdown",
      "metadata": {
        "id": "9926217b"
      },
      "source": [
        "## reform"
      ],
      "id": "9926217b"
    },
    {
      "cell_type": "code",
      "metadata": {
        "id": "ee8e51e1"
      },
      "source": [
        "reform_cols = [\n",
        "    'reform_house_population_1000',\n",
        "    'reform_house_population_500',\n",
        "    'reform_mean_floor_count_1000',\n",
        "    'reform_mean_floor_count_500',\n",
        "    'reform_mean_year_building_1000',\n",
        "    'reform_mean_year_building_500'\n",
        "]\n",
        "\n",
        "for col in reform_cols:\n",
        "    train[col] = train[col].fillna(train.groupby('city')[col].transform('median'))\n",
        "    test[col] = test[col].fillna(test.groupby('city')[col].transform('median'))"
      ],
      "id": "ee8e51e1",
      "execution_count": 216,
      "outputs": []
    },
    {
      "cell_type": "markdown",
      "metadata": {
        "id": "e930ba57"
      },
      "source": [
        "# LABEL ENCODING"
      ],
      "id": "e930ba57"
    },
    {
      "cell_type": "code",
      "metadata": {
        "id": "f667d4b9"
      },
      "source": [
        "# ВАЖНО! дря корректной обработки признаков объединяем трейн и тест в один датасет\n",
        "train['sample'] = 1 # помечаем где у нас трейн\n",
        "test['sample'] = 0 # помечаем где у нас тест\n",
        "\n",
        "data = test.append(train, sort=False).reset_index(drop=True) # объединяем"
      ],
      "id": "f667d4b9",
      "execution_count": 217,
      "outputs": []
    },
    {
      "cell_type": "code",
      "metadata": {
        "id": "999b90a5"
      },
      "source": [
        "bin_cols = [\n",
        "    'floor_empty',\n",
        "    'floor_multi'\n",
        "]\n",
        "\n",
        "cat_cols = [\n",
        "    'city',\n",
        "    'realty_type',\n",
        "]\n",
        "\n",
        "num_cols = [\n",
        "    'floor',\n",
        "    'lat',\n",
        "    'lng',\n",
        "    'osm_amenity_points_in_0.01',\n",
        "    'osm_catering_points_in_0.001',\n",
        "    'osm_city_closest_dist',\n",
        "    'osm_city_nearest_population',\n",
        "    'osm_crossing_closest_dist',\n",
        "    'osm_crossing_points_in_0.01',\n",
        "    'osm_finance_points_in_0.01',\n",
        "    'osm_healthcare_points_in_0.01',\n",
        "    'osm_historic_points_in_0.005',\n",
        "    'osm_hotels_points_in_0.01',\n",
        "    'osm_leisure_points_in_0.01',\n",
        "    'osm_offices_points_in_0.01',\n",
        "    'osm_shops_points_in_0.01',\n",
        "    'osm_subway_closest_dist',\n",
        "    'osm_train_stop_closest_dist',\n",
        "    'osm_train_stop_points_in_0.01',\n",
        "    'osm_transport_stop_points_in_0.01',\n",
        "    'reform_count_of_houses_1000',\n",
        "    'reform_house_population_1000',\n",
        "    'reform_mean_floor_count_1000',\n",
        "    'reform_mean_floor_count_500',\n",
        "    'reform_mean_year_building_1000',\n",
        "]\n",
        "\n",
        "for colum in cat_cols:\n",
        "    data[colum] = data[colum].astype('category').cat.codes"
      ],
      "id": "999b90a5",
      "execution_count": 218,
      "outputs": []
    },
    {
      "cell_type": "markdown",
      "metadata": {
        "id": "de0f9f80"
      },
      "source": [
        "## Feature Importance"
      ],
      "id": "de0f9f80"
    },
    {
      "cell_type": "code",
      "metadata": {
        "id": "f82f89b8"
      },
      "source": [
        "# data_temp = data.loc[data['sample'] == 1].drop(['sample'], axis=1)"
      ],
      "id": "f82f89b8",
      "execution_count": 219,
      "outputs": []
    },
    {
      "cell_type": "code",
      "metadata": {
        "id": "47cbd1d6"
      },
      "source": [
        "# imp_num = pd.Series(f_classif(data_temp[num_cols], data_temp['per_square_meter_price'])[0], index=num_cols)\n",
        "# imp_num.sort_values(inplace=True)\n",
        "# imp_num.plot(kind = 'barh', color='pink', title='Numeric Features Importance')"
      ],
      "id": "47cbd1d6",
      "execution_count": 220,
      "outputs": []
    },
    {
      "cell_type": "code",
      "metadata": {
        "id": "9c7ddc74"
      },
      "source": [
        "# imp_num\n",
        "\n",
        "# osm_building_points is less important than other"
      ],
      "id": "9c7ddc74",
      "execution_count": 221,
      "outputs": []
    },
    {
      "cell_type": "markdown",
      "metadata": {
        "id": "453a8c98"
      },
      "source": [
        "## Get Dummies"
      ],
      "id": "453a8c98"
    },
    {
      "cell_type": "code",
      "metadata": {
        "id": "84e3a4a3"
      },
      "source": [
        "data = pd.get_dummies(data, prefix=cat_cols, columns=cat_cols)"
      ],
      "id": "84e3a4a3",
      "execution_count": 222,
      "outputs": []
    },
    {
      "cell_type": "code",
      "metadata": {
        "id": "3c80c737"
      },
      "source": [
        "cat_cols = [\n",
        "    'city_0',\n",
        "    'city_1',\n",
        "    'city_2',\n",
        "    'city_3',\n",
        "    'city_4',\n",
        "    'city_5',\n",
        "    'city_6',\n",
        "    'city_7',\n",
        "    'city_8',\n",
        "    'city_9',\n",
        "    'city_10',\n",
        "    'city_11',\n",
        "    'city_12',\n",
        "    'city_13',\n",
        "    'city_14',\n",
        "    'city_15',\n",
        "    'realty_type_0',\n",
        "    'realty_type_1',\n",
        "    'realty_type_2'\n",
        "]"
      ],
      "id": "3c80c737",
      "execution_count": 223,
      "outputs": []
    },
    {
      "cell_type": "markdown",
      "metadata": {
        "id": "3f2f60e7"
      },
      "source": [
        "## Outliers and Standartization"
      ],
      "id": "3f2f60e7"
    },
    {
      "cell_type": "code",
      "metadata": {
        "colab": {
          "base_uri": "https://localhost:8080/"
        },
        "id": "40cf42ef",
        "outputId": "be63f9c6-c25a-4493-ba4f-73340ccb41e8"
      },
      "source": [
        "for col in num_cols:\n",
        "    if col == 'floor' or col == 'lat' or col == 'lng':\n",
        "        pass\n",
        "    else:\n",
        "        median = data[col].median()\n",
        "        IQR = data[col].quantile(0.75) - data[col].quantile(0.25)\n",
        "        perc25 = data[col].quantile(0.25)\n",
        "        perc75 = data[col].quantile(0.75)\n",
        "\n",
        "        print(\"Column: \", col)\n",
        "        print(' 25%: {:.4},\\n'.format(perc25), '75%: {:.4},\\n'.format(perc75),\n",
        "              \"IQR: {:.4}, \\n\".format(IQR), \"Borderline: [{f:.4}, {l:.4}].\\n\".format(f=perc25 - 1.5*IQR, l=perc75 + 1.5*IQR))\n",
        "        print()\n",
        "\n",
        "        # replace outliers with border-values\n",
        "        data[col] = np.where(data[col] > (perc75 + 1.5*IQR), (perc75 + 1.5*IQR), data[col])\n",
        "        data[col] = np.where(data[col] < (perc25 - 1.5*IQR), (perc25 - 1.5*IQR), data[col])"
      ],
      "id": "40cf42ef",
      "execution_count": 224,
      "outputs": [
        {
          "output_type": "stream",
          "name": "stdout",
          "text": [
            "Column:  osm_amenity_points_in_0.01\n",
            " 25%: 55.0,\n",
            " 75%: 196.8,\n",
            " IQR: 141.8, \n",
            " Borderline: [-157.6, 409.4].\n",
            "\n",
            "\n",
            "Column:  osm_catering_points_in_0.001\n",
            " 25%: 0.0,\n",
            " 75%: 1.0,\n",
            " IQR: 1.0, \n",
            " Borderline: [-1.5, 2.5].\n",
            "\n",
            "\n",
            "Column:  osm_city_closest_dist\n",
            " 25%: 1.304,\n",
            " 75%: 4.745,\n",
            " IQR: 3.441, \n",
            " Borderline: [-3.856, 9.906].\n",
            "\n",
            "\n",
            "Column:  osm_city_nearest_population\n",
            " 25%: 4.066e+05,\n",
            " 75%: 1.157e+06,\n",
            " IQR: 7.501e+05, \n",
            " Borderline: [-7.186e+05, 2.282e+06].\n",
            "\n",
            "\n",
            "Column:  osm_crossing_closest_dist\n",
            " 25%: 0.05987,\n",
            " 75%: 0.1777,\n",
            " IQR: 0.1178, \n",
            " Borderline: [-0.1169, 0.3545].\n",
            "\n",
            "\n",
            "Column:  osm_crossing_points_in_0.01\n",
            " 25%: 26.0,\n",
            " 75%: 81.0,\n",
            " IQR: 55.0, \n",
            " Borderline: [-56.5, 163.5].\n",
            "\n",
            "\n",
            "Column:  osm_finance_points_in_0.01\n",
            " 25%: 2.0,\n",
            " 75%: 12.0,\n",
            " IQR: 10.0, \n",
            " Borderline: [-13.0, 27.0].\n",
            "\n",
            "\n",
            "Column:  osm_healthcare_points_in_0.01\n",
            " 25%: 2.0,\n",
            " 75%: 9.0,\n",
            " IQR: 7.0, \n",
            " Borderline: [-8.5, 19.5].\n",
            "\n",
            "\n",
            "Column:  osm_historic_points_in_0.005\n",
            " 25%: 0.0,\n",
            " 75%: 3.0,\n",
            " IQR: 3.0, \n",
            " Borderline: [-4.5, 7.5].\n",
            "\n",
            "\n",
            "Column:  osm_hotels_points_in_0.01\n",
            " 25%: 0.0,\n",
            " 75%: 4.0,\n",
            " IQR: 4.0, \n",
            " Borderline: [-6.0, 10.0].\n",
            "\n",
            "\n",
            "Column:  osm_leisure_points_in_0.01\n",
            " 25%: 2.0,\n",
            " 75%: 9.0,\n",
            " IQR: 7.0, \n",
            " Borderline: [-8.5, 19.5].\n",
            "\n",
            "\n",
            "Column:  osm_offices_points_in_0.01\n",
            " 25%: 2.0,\n",
            " 75%: 15.0,\n",
            " IQR: 13.0, \n",
            " Borderline: [-17.5, 34.5].\n",
            "\n",
            "\n",
            "Column:  osm_shops_points_in_0.01\n",
            " 25%: 29.0,\n",
            " 75%: 110.0,\n",
            " IQR: 81.0, \n",
            " Borderline: [-92.5, 231.5].\n",
            "\n",
            "\n",
            "Column:  osm_subway_closest_dist\n",
            " 25%: 1.675,\n",
            " 75%: 302.8,\n",
            " IQR: 301.1, \n",
            " Borderline: [-450.0, 754.5].\n",
            "\n",
            "\n",
            "Column:  osm_train_stop_closest_dist\n",
            " 25%: 1.548,\n",
            " 75%: 5.334,\n",
            " IQR: 3.786, \n",
            " Borderline: [-4.132, 11.01].\n",
            "\n",
            "\n",
            "Column:  osm_train_stop_points_in_0.01\n",
            " 25%: 0.0,\n",
            " 75%: 0.0,\n",
            " IQR: 0.0, \n",
            " Borderline: [0.0, 0.0].\n",
            "\n",
            "\n",
            "Column:  osm_transport_stop_points_in_0.01\n",
            " 25%: 15.0,\n",
            " 75%: 31.0,\n",
            " IQR: 16.0, \n",
            " Borderline: [-9.0, 55.0].\n",
            "\n",
            "\n",
            "Column:  reform_count_of_houses_1000\n",
            " 25%: 93.0,\n",
            " 75%: 191.0,\n",
            " IQR: 98.0, \n",
            " Borderline: [-54.0, 338.0].\n",
            "\n",
            "\n",
            "Column:  reform_house_population_1000\n",
            " 25%: 1.707e+03,\n",
            " 75%: 3.25e+03,\n",
            " IQR: 1.542e+03, \n",
            " Borderline: [-606.8, 5.563e+03].\n",
            "\n",
            "\n",
            "Column:  reform_mean_floor_count_1000\n",
            " 25%: 4.616,\n",
            " 75%: 7.05,\n",
            " IQR: 2.435, \n",
            " Borderline: [0.9633, 10.7].\n",
            "\n",
            "\n",
            "Column:  reform_mean_floor_count_500\n",
            " 25%: 4.538,\n",
            " 75%: 7.512,\n",
            " IQR: 2.974, \n",
            " Borderline: [0.07786, 11.97].\n",
            "\n",
            "\n",
            "Column:  reform_mean_year_building_1000\n",
            " 25%: 1.959e+03,\n",
            " 75%: 1.98e+03,\n",
            " IQR: 20.97, \n",
            " Borderline: [1.927e+03, 2.011e+03].\n",
            "\n",
            "\n"
          ]
        }
      ]
    },
    {
      "cell_type": "code",
      "metadata": {
        "id": "9715656d"
      },
      "source": [
        "scaler = MinMaxScaler()\n",
        "data[num_cols] = scaler.fit_transform(data[num_cols].values)"
      ],
      "id": "9715656d",
      "execution_count": 225,
      "outputs": []
    },
    {
      "cell_type": "code",
      "metadata": {
        "id": "300bf0ea"
      },
      "source": [
        "feat_cols = []\n",
        "feat_cols.append('per_square_meter_price')\n",
        "feat_cols.append('sample')\n",
        "for item in [num_cols, bin_cols, cat_cols]:\n",
        "    for elem in item:\n",
        "        feat_cols.append(elem)"
      ],
      "id": "300bf0ea",
      "execution_count": 226,
      "outputs": []
    },
    {
      "cell_type": "code",
      "metadata": {
        "id": "2cc8f40c"
      },
      "source": [
        "data = data[feat_cols]"
      ],
      "id": "2cc8f40c",
      "execution_count": 227,
      "outputs": []
    },
    {
      "cell_type": "code",
      "metadata": {
        "colab": {
          "base_uri": "https://localhost:8080/"
        },
        "id": "956b22cd",
        "outputId": "5f4e4a33-3cab-46fe-95c6-096c1689800d"
      },
      "source": [
        "data.info()"
      ],
      "id": "956b22cd",
      "execution_count": 228,
      "outputs": [
        {
          "output_type": "stream",
          "name": "stdout",
          "text": [
            "<class 'pandas.core.frame.DataFrame'>\n",
            "RangeIndex: 7466 entries, 0 to 7465\n",
            "Data columns (total 48 columns):\n",
            " #   Column                             Non-Null Count  Dtype  \n",
            "---  ------                             --------------  -----  \n",
            " 0   per_square_meter_price             4492 non-null   float64\n",
            " 1   sample                             7466 non-null   int64  \n",
            " 2   floor                              7466 non-null   float64\n",
            " 3   lat                                7466 non-null   float64\n",
            " 4   lng                                7466 non-null   float64\n",
            " 5   osm_amenity_points_in_0.01         7466 non-null   float64\n",
            " 6   osm_catering_points_in_0.001       7466 non-null   float64\n",
            " 7   osm_city_closest_dist              7466 non-null   float64\n",
            " 8   osm_city_nearest_population        7466 non-null   float64\n",
            " 9   osm_crossing_closest_dist          7466 non-null   float64\n",
            " 10  osm_crossing_points_in_0.01        7466 non-null   float64\n",
            " 11  osm_finance_points_in_0.01         7466 non-null   float64\n",
            " 12  osm_healthcare_points_in_0.01      7466 non-null   float64\n",
            " 13  osm_historic_points_in_0.005       7466 non-null   float64\n",
            " 14  osm_hotels_points_in_0.01          7466 non-null   float64\n",
            " 15  osm_leisure_points_in_0.01         7466 non-null   float64\n",
            " 16  osm_offices_points_in_0.01         7466 non-null   float64\n",
            " 17  osm_shops_points_in_0.01           7466 non-null   float64\n",
            " 18  osm_subway_closest_dist            7466 non-null   float64\n",
            " 19  osm_train_stop_closest_dist        7466 non-null   float64\n",
            " 20  osm_train_stop_points_in_0.01      7466 non-null   float64\n",
            " 21  osm_transport_stop_points_in_0.01  7466 non-null   float64\n",
            " 22  reform_count_of_houses_1000        7466 non-null   float64\n",
            " 23  reform_house_population_1000       7466 non-null   float64\n",
            " 24  reform_mean_floor_count_1000       7466 non-null   float64\n",
            " 25  reform_mean_floor_count_500        7466 non-null   float64\n",
            " 26  reform_mean_year_building_1000     7466 non-null   float64\n",
            " 27  floor_empty                        7466 non-null   uint8  \n",
            " 28  floor_multi                        7466 non-null   int64  \n",
            " 29  city_0                             7466 non-null   uint8  \n",
            " 30  city_1                             7466 non-null   uint8  \n",
            " 31  city_2                             7466 non-null   uint8  \n",
            " 32  city_3                             7466 non-null   uint8  \n",
            " 33  city_4                             7466 non-null   uint8  \n",
            " 34  city_5                             7466 non-null   uint8  \n",
            " 35  city_6                             7466 non-null   uint8  \n",
            " 36  city_7                             7466 non-null   uint8  \n",
            " 37  city_8                             7466 non-null   uint8  \n",
            " 38  city_9                             7466 non-null   uint8  \n",
            " 39  city_10                            7466 non-null   uint8  \n",
            " 40  city_11                            7466 non-null   uint8  \n",
            " 41  city_12                            7466 non-null   uint8  \n",
            " 42  city_13                            7466 non-null   uint8  \n",
            " 43  city_14                            7466 non-null   uint8  \n",
            " 44  city_15                            7466 non-null   uint8  \n",
            " 45  realty_type_0                      7466 non-null   uint8  \n",
            " 46  realty_type_1                      7466 non-null   uint8  \n",
            " 47  realty_type_2                      7466 non-null   uint8  \n",
            "dtypes: float64(26), int64(2), uint8(20)\n",
            "memory usage: 1.7 MB\n"
          ]
        }
      ]
    },
    {
      "cell_type": "markdown",
      "metadata": {
        "id": "3c55ec5f"
      },
      "source": [
        "## Correlation Matrix"
      ],
      "id": "3c55ec5f"
    },
    {
      "cell_type": "code",
      "metadata": {
        "colab": {
          "base_uri": "https://localhost:8080/",
          "height": 1000
        },
        "id": "d23821d2",
        "outputId": "a1d19bbb-0375-428d-c106-ad6bfea9f90d"
      },
      "source": [
        "plt.title('Correlation Matrix of dataset features')\n",
        "plt.rcParams['figure.figsize'] = (30,20)\n",
        "sns.heatmap(data.corr(), vmin=-1, vmax=1, annot = False)"
      ],
      "id": "d23821d2",
      "execution_count": 229,
      "outputs": [
        {
          "output_type": "execute_result",
          "data": {
            "text/plain": [
              "<matplotlib.axes._subplots.AxesSubplot at 0x7f83a383cb90>"
            ]
          },
          "metadata": {},
          "execution_count": 229
        },
        {
          "output_type": "display_data",
          "data": {
            "image/png": "[encoded data removed]",
            "text/plain": [
              "<Figure size 2160x1440 with 2 Axes>"
            ]
          },
          "metadata": {
            "needs_background": "light"
          }
        }
      ]
    },
    {
      "cell_type": "code",
      "metadata": {
        "colab": {
          "base_uri": "https://localhost:8080/"
        },
        "id": "0175cc32",
        "outputId": "db336fea-a1a8-44cc-e9d5-6f544f89a52e"
      },
      "source": [
        "# show features with corr > 0.7\n",
        "corr = data.corr().abs()\n",
        "corr_table = corr.unstack()\n",
        "corr_table_sorted = corr_table.sort_values(kind=\"quicksort\", ascending=False)\n",
        "corr_exclude_ones = corr_table_sorted[corr_table_sorted != 1]\n",
        "high_corr = corr_exclude_ones[corr_exclude_ones >= 0.7]\n",
        "high_corr"
      ],
      "id": "0175cc32",
      "execution_count": 230,
      "outputs": [
        {
          "output_type": "execute_result",
          "data": {
            "text/plain": [
              "osm_shops_points_in_0.01           osm_amenity_points_in_0.01           0.953312\n",
              "osm_amenity_points_in_0.01         osm_shops_points_in_0.01             0.953312\n",
              "reform_mean_floor_count_1000       reform_mean_floor_count_500          0.915123\n",
              "reform_mean_floor_count_500        reform_mean_floor_count_1000         0.915123\n",
              "osm_offices_points_in_0.01         osm_amenity_points_in_0.01           0.902879\n",
              "osm_amenity_points_in_0.01         osm_offices_points_in_0.01           0.902879\n",
              "osm_finance_points_in_0.01         osm_amenity_points_in_0.01           0.894109\n",
              "osm_amenity_points_in_0.01         osm_finance_points_in_0.01           0.894109\n",
              "osm_shops_points_in_0.01           osm_offices_points_in_0.01           0.872903\n",
              "osm_offices_points_in_0.01         osm_shops_points_in_0.01             0.872903\n",
              "osm_healthcare_points_in_0.01      osm_shops_points_in_0.01             0.858475\n",
              "osm_shops_points_in_0.01           osm_healthcare_points_in_0.01        0.858475\n",
              "osm_offices_points_in_0.01         osm_finance_points_in_0.01           0.851747\n",
              "osm_finance_points_in_0.01         osm_offices_points_in_0.01           0.851747\n",
              "osm_healthcare_points_in_0.01      osm_amenity_points_in_0.01           0.844126\n",
              "osm_amenity_points_in_0.01         osm_healthcare_points_in_0.01        0.844126\n",
              "osm_finance_points_in_0.01         osm_shops_points_in_0.01             0.841817\n",
              "osm_shops_points_in_0.01           osm_finance_points_in_0.01           0.841817\n",
              "osm_offices_points_in_0.01         osm_healthcare_points_in_0.01        0.812634\n",
              "osm_healthcare_points_in_0.01      osm_offices_points_in_0.01           0.812634\n",
              "osm_finance_points_in_0.01         osm_healthcare_points_in_0.01        0.750511\n",
              "osm_healthcare_points_in_0.01      osm_finance_points_in_0.01           0.750511\n",
              "osm_leisure_points_in_0.01         osm_amenity_points_in_0.01           0.749177\n",
              "osm_amenity_points_in_0.01         osm_leisure_points_in_0.01           0.749177\n",
              "osm_crossing_points_in_0.01        osm_amenity_points_in_0.01           0.748373\n",
              "osm_amenity_points_in_0.01         osm_crossing_points_in_0.01          0.748373\n",
              "osm_shops_points_in_0.01           osm_leisure_points_in_0.01           0.747495\n",
              "osm_leisure_points_in_0.01         osm_shops_points_in_0.01             0.747495\n",
              "osm_finance_points_in_0.01         osm_crossing_points_in_0.01          0.744907\n",
              "osm_crossing_points_in_0.01        osm_finance_points_in_0.01           0.744907\n",
              "osm_transport_stop_points_in_0.01  osm_amenity_points_in_0.01           0.740363\n",
              "osm_amenity_points_in_0.01         osm_transport_stop_points_in_0.01    0.740363\n",
              "osm_transport_stop_points_in_0.01  osm_shops_points_in_0.01             0.726937\n",
              "osm_shops_points_in_0.01           osm_transport_stop_points_in_0.01    0.726937\n",
              "reform_mean_year_building_1000     reform_mean_floor_count_1000         0.713920\n",
              "reform_mean_floor_count_1000       reform_mean_year_building_1000       0.713920\n",
              "osm_hotels_points_in_0.01          osm_amenity_points_in_0.01           0.712113\n",
              "osm_amenity_points_in_0.01         osm_hotels_points_in_0.01            0.712113\n",
              "osm_crossing_points_in_0.01        osm_offices_points_in_0.01           0.711424\n",
              "osm_offices_points_in_0.01         osm_crossing_points_in_0.01          0.711424\n",
              "dtype: float64"
            ]
          },
          "metadata": {},
          "execution_count": 230
        }
      ]
    },
    {
      "cell_type": "markdown",
      "metadata": {
        "id": "0d92bfa0"
      },
      "source": [
        "# MODEL"
      ],
      "id": "0d92bfa0"
    },
    {
      "cell_type": "code",
      "metadata": {
        "id": "cdd27d72"
      },
      "source": [
        "train = data.query('sample == 1')\n",
        "test = data.query('sample == 0')\n",
        "\n",
        "X = train.drop(['sample', 'per_square_meter_price'], axis=1).values\n",
        "y = train['per_square_meter_price'].values\n",
        "\n",
        "X_sub = test.drop(['sample', 'per_square_meter_price'], axis=1).values"
      ],
      "id": "cdd27d72",
      "execution_count": 231,
      "outputs": []
    },
    {
      "cell_type": "code",
      "metadata": {
        "id": "300e18f5"
      },
      "source": [
        "X_train, X_val, y_train, y_val = train_test_split(X, y, test_size=VAL_SIZE, shuffle=True, random_state=RANDOM_SEED)"
      ],
      "id": "300e18f5",
      "execution_count": 232,
      "outputs": []
    },
    {
      "cell_type": "code",
      "metadata": {
        "colab": {
          "base_uri": "https://localhost:8080/"
        },
        "id": "77d845cc",
        "outputId": "21368ccf-6ddb-4e8f-e9c5-796ed56cd3aa"
      },
      "source": [
        "start = datetime.now()\n",
        "\n",
        "lgbmr = LGBMRegressor(objective='regression', max_depth=12, num_leaves=1000,\n",
        "                      learning_rate=0.02, n_estimators=2000, metric='mape')\n",
        "\n",
        "lgbmr.fit(X_train, np.log(y_train))\n",
        "\n",
        "# оцениваем точность\n",
        "predict_lgbmr = np.exp(lgbmr.predict(X_val))\n",
        "print(f\"Точность модели по метрике MAPE: {(deviation_metric(y_val, predict_lgbmr)):0.2f}%\")\n",
        "print('Время выполнения - ', datetime.now() - start)"
      ],
      "id": "77d845cc",
      "execution_count": 233,
      "outputs": [
        {
          "output_type": "stream",
          "name": "stdout",
          "text": [
            "Точность модели по метрике MAPE: 1.55%\n",
            "Время выполнения -  0:00:09.557617\n"
          ]
        }
      ]
    },
    {
      "cell_type": "code",
      "metadata": {
        "id": "dc088543"
      },
      "source": [
        "# lgbm for total_square = 200.19%\n",
        "# lgbm for total_square w query price_type 1 = 46.11%\n",
        "# lgbm for total_square and city = 168.25%\n",
        "# lgbm with all features = 99.18%\n",
        "# lgbm with n_estimarors 2000 = 95.64% ~1m\n",
        "# lgbm with custom metric = 2.68 ~1m\n",
        "\n",
        "# short dataset = 1.55% ~ 10s"
      ],
      "id": "dc088543",
      "execution_count": 234,
      "outputs": []
    },
    {
      "cell_type": "code",
      "metadata": {
        "colab": {
          "base_uri": "https://localhost:8080/"
        },
        "id": "b77bc5fa",
        "outputId": "3dcc2835-ecde-4a91-c1da-757746aaf378"
      },
      "source": [
        "start = datetime.now()\n",
        "\n",
        "lgbmr_raif = LGBMRegressor(n_estimators=2000,\n",
        "                      learning_rate=0.01,\n",
        "                      reg_alpha=1,\n",
        "                      num_leaves=40,\n",
        "                      min_child_samples=5,\n",
        "                      importance_type=\"gain\",\n",
        "                      n_jobs=1,\n",
        "                      random_state=RANDOM_SEED)\n",
        "\n",
        "lgbmr_raif.fit(X_train, np.log(y_train))\n",
        "\n",
        "# оцениваем точность\n",
        "predict_lgbmr_raif = np.exp(lgbmr_raif.predict(X_val))\n",
        "print(f\"Точность модели по метрике MAPE: {(deviation_metric(y_val, predict_lgbmr_raif)):0.2f}%\")\n",
        "print('Время выполнения - ', datetime.now() - start)"
      ],
      "id": "b77bc5fa",
      "execution_count": 235,
      "outputs": [
        {
          "output_type": "stream",
          "name": "stdout",
          "text": [
            "Точность модели по метрике MAPE: 1.53%\n",
            "Время выполнения -  0:00:09.057063\n"
          ]
        }
      ]
    },
    {
      "cell_type": "code",
      "metadata": {
        "id": "99557ba2"
      },
      "source": [
        "# lgbm with raif baseline params = 118.29% ~27s\n",
        "# raif lgbm with custom metric = 3.66 ~ 30s\n",
        "\n",
        "# short dataset = 1.53% ~ 10s"
      ],
      "id": "99557ba2",
      "execution_count": 236,
      "outputs": []
    },
    {
      "cell_type": "code",
      "metadata": {
        "colab": {
          "base_uri": "https://localhost:8080/"
        },
        "id": "22290afd",
        "outputId": "5c288060-aeb8-433f-fc2d-42cc66b074e7"
      },
      "source": [
        "import xgboost as xgb\n",
        "\n",
        "start = datetime.now()\n",
        "\n",
        "xgb_reg = xgb.XGBRegressor(objective='reg:squarederror',\n",
        "                           colsample_bytree=0.5,\n",
        "                           learning_rate=0.05,\n",
        "                           max_depth=12,\n",
        "                           alpha=1,\n",
        "                           n_estimators=1000)\n",
        "\n",
        "xgb_reg.fit(X_train, np.log(y_train))\n",
        "\n",
        "# оцениваем точность\n",
        "predict_xgb = np.exp(xgb_reg.predict(X_val))\n",
        "print(f\"Точность модели по метрике MAPE: {(deviation_metric(y_val, predict_xgb)):0.2f}%\")\n",
        "print('Время выполнения - ', datetime.now() - start)"
      ],
      "id": "22290afd",
      "execution_count": 237,
      "outputs": [
        {
          "output_type": "stream",
          "name": "stdout",
          "text": [
            "Точность модели по метрике MAPE: 1.47%\n",
            "Время выполнения -  0:00:14.183862\n"
          ]
        }
      ]
    },
    {
      "cell_type": "code",
      "metadata": {
        "id": "cb5f52eb"
      },
      "source": [
        "# xgb = 93.33% ~ 3.5m\n",
        "# xgb with custom metric = 2.58% ~ 3.5m\n",
        "\n",
        "# short dataset = 1.47% ~25s"
      ],
      "id": "cb5f52eb",
      "execution_count": 238,
      "outputs": []
    },
    {
      "cell_type": "code",
      "metadata": {
        "colab": {
          "base_uri": "https://localhost:8080/"
        },
        "id": "516a3058",
        "outputId": "481b3d3c-9783-4e85-baf6-acc09bc652fa"
      },
      "source": [
        "start = datetime.now()\n",
        "\n",
        "bagg_lgbm = BaggingRegressor(lgbmr_raif, n_estimators=3, n_jobs=4, random_state=RANDOM_SEED)\n",
        "bagg_lgbm.fit(X_train, np.log(y_train))\n",
        "predict_bagg_lgbm = np.exp(bagg_lgbm.predict(X_val))\n",
        "print(f\"Точность модели по метрике MAPE: {(deviation_metric(y_val, predict_bagg_lgbm)):0.2f}%\")\n",
        "print('Время выполнения - ', datetime.now() - start)"
      ],
      "id": "516a3058",
      "execution_count": 239,
      "outputs": [
        {
          "output_type": "stream",
          "name": "stdout",
          "text": [
            "Точность модели по метрике MAPE: 1.60%\n",
            "Время выполнения -  0:00:26.736922\n"
          ]
        }
      ]
    },
    {
      "cell_type": "code",
      "metadata": {
        "id": "0a733bea"
      },
      "source": [
        "# short dataset = 1.6% ~30s"
      ],
      "id": "0a733bea",
      "execution_count": 240,
      "outputs": []
    },
    {
      "cell_type": "markdown",
      "metadata": {
        "id": "0608f6b9"
      },
      "source": [
        "# SUBMISSION"
      ],
      "id": "0608f6b9"
    },
    {
      "cell_type": "code",
      "metadata": {
        "colab": {
          "base_uri": "https://localhost:8080/",
          "height": 206
        },
        "id": "f2bc2e25",
        "outputId": "04fd09b7-7963-4532-ab1c-00840aefe9f9"
      },
      "source": [
        "predict_lgbmr = np.exp(lgbmr.predict(X_sub))\n",
        "\n",
        "sample['per_square_meter_price'] = predict_lgbmr\n",
        "sample['per_square_meter_price'] = sample['per_square_meter_price'] * 0.94\n",
        "sample.to_csv('/drive/My Drive/Segodnya_DS/submission_lgbmr.csv', index=False)\n",
        "sample.head()\n",
        "\n",
        "# 2.12"
      ],
      "id": "f2bc2e25",
      "execution_count": 241,
      "outputs": [
        {
          "output_type": "execute_result",
          "data": {
            "text/html": [
              "<div>\n",
              "<style scoped>\n",
              "    .dataframe tbody tr th:only-of-type {\n",
              "        vertical-align: middle;\n",
              "    }\n",
              "\n",
              "    .dataframe tbody tr th {\n",
              "        vertical-align: top;\n",
              "    }\n",
              "\n",
              "    .dataframe thead th {\n",
              "        text-align: right;\n",
              "    }\n",
              "</style>\n",
              "<table border=\"1\" class=\"dataframe\">\n",
              "  <thead>\n",
              "    <tr style=\"text-align: right;\">\n",
              "      <th></th>\n",
              "      <th>id</th>\n",
              "      <th>per_square_meter_price</th>\n",
              "    </tr>\n",
              "  </thead>\n",
              "  <tbody>\n",
              "    <tr>\n",
              "      <th>0</th>\n",
              "      <td>COL_289284</td>\n",
              "      <td>48746.779045</td>\n",
              "    </tr>\n",
              "    <tr>\n",
              "      <th>1</th>\n",
              "      <td>COL_289305</td>\n",
              "      <td>40570.785788</td>\n",
              "    </tr>\n",
              "    <tr>\n",
              "      <th>2</th>\n",
              "      <td>COL_289318</td>\n",
              "      <td>42076.957197</td>\n",
              "    </tr>\n",
              "    <tr>\n",
              "      <th>3</th>\n",
              "      <td>COL_289354</td>\n",
              "      <td>90732.711495</td>\n",
              "    </tr>\n",
              "    <tr>\n",
              "      <th>4</th>\n",
              "      <td>COL_289399</td>\n",
              "      <td>49601.789638</td>\n",
              "    </tr>\n",
              "  </tbody>\n",
              "</table>\n",
              "</div>"
            ],
            "text/plain": [
              "           id  per_square_meter_price\n",
              "0  COL_289284            48746.779045\n",
              "1  COL_289305            40570.785788\n",
              "2  COL_289318            42076.957197\n",
              "3  COL_289354            90732.711495\n",
              "4  COL_289399            49601.789638"
            ]
          },
          "metadata": {},
          "execution_count": 241
        }
      ]
    },
    {
      "cell_type": "code",
      "metadata": {
        "colab": {
          "base_uri": "https://localhost:8080/",
          "height": 206
        },
        "id": "32b72258",
        "outputId": "43bc12bf-43d5-4955-b763-c8f9d69f7ab8"
      },
      "source": [
        "predict_lgbmr_raif = np.exp(lgbmr_raif.predict(X_sub))\n",
        "\n",
        "sample['per_square_meter_price'] = predict_lgbmr_raif\n",
        "sample['per_square_meter_price'] = sample['per_square_meter_price'] * 0.94\n",
        "sample.to_csv('/drive/My Drive/Segodnya_DS/submission_lgbmr_raif.csv', index=False)\n",
        "sample.head()\n",
        "\n",
        "# 1.91"
      ],
      "id": "32b72258",
      "execution_count": 242,
      "outputs": [
        {
          "output_type": "execute_result",
          "data": {
            "text/html": [
              "<div>\n",
              "<style scoped>\n",
              "    .dataframe tbody tr th:only-of-type {\n",
              "        vertical-align: middle;\n",
              "    }\n",
              "\n",
              "    .dataframe tbody tr th {\n",
              "        vertical-align: top;\n",
              "    }\n",
              "\n",
              "    .dataframe thead th {\n",
              "        text-align: right;\n",
              "    }\n",
              "</style>\n",
              "<table border=\"1\" class=\"dataframe\">\n",
              "  <thead>\n",
              "    <tr style=\"text-align: right;\">\n",
              "      <th></th>\n",
              "      <th>id</th>\n",
              "      <th>per_square_meter_price</th>\n",
              "    </tr>\n",
              "  </thead>\n",
              "  <tbody>\n",
              "    <tr>\n",
              "      <th>0</th>\n",
              "      <td>COL_289284</td>\n",
              "      <td>46499.398823</td>\n",
              "    </tr>\n",
              "    <tr>\n",
              "      <th>1</th>\n",
              "      <td>COL_289305</td>\n",
              "      <td>38175.975583</td>\n",
              "    </tr>\n",
              "    <tr>\n",
              "      <th>2</th>\n",
              "      <td>COL_289318</td>\n",
              "      <td>44876.067129</td>\n",
              "    </tr>\n",
              "    <tr>\n",
              "      <th>3</th>\n",
              "      <td>COL_289354</td>\n",
              "      <td>88249.662564</td>\n",
              "    </tr>\n",
              "    <tr>\n",
              "      <th>4</th>\n",
              "      <td>COL_289399</td>\n",
              "      <td>48597.581791</td>\n",
              "    </tr>\n",
              "  </tbody>\n",
              "</table>\n",
              "</div>"
            ],
            "text/plain": [
              "           id  per_square_meter_price\n",
              "0  COL_289284            46499.398823\n",
              "1  COL_289305            38175.975583\n",
              "2  COL_289318            44876.067129\n",
              "3  COL_289354            88249.662564\n",
              "4  COL_289399            48597.581791"
            ]
          },
          "metadata": {},
          "execution_count": 242
        }
      ]
    },
    {
      "cell_type": "code",
      "metadata": {
        "colab": {
          "base_uri": "https://localhost:8080/",
          "height": 206
        },
        "id": "875c6ca4",
        "outputId": "c792239e-2bdc-41bc-8587-cc047d618b73"
      },
      "source": [
        "predict_xgb = np.exp(xgb_reg.predict(X_sub))\n",
        "\n",
        "sample['per_square_meter_price'] = predict_xgb\n",
        "sample['per_square_meter_price'] = sample['per_square_meter_price'] * 0.94\n",
        "sample.to_csv('/drive/My Drive/Segodnya_DS/submission_xgb.csv', index=False)\n",
        "sample.head()\n",
        "\n",
        "# 2.03"
      ],
      "id": "875c6ca4",
      "execution_count": 243,
      "outputs": [
        {
          "output_type": "execute_result",
          "data": {
            "text/html": [
              "<div>\n",
              "<style scoped>\n",
              "    .dataframe tbody tr th:only-of-type {\n",
              "        vertical-align: middle;\n",
              "    }\n",
              "\n",
              "    .dataframe tbody tr th {\n",
              "        vertical-align: top;\n",
              "    }\n",
              "\n",
              "    .dataframe thead th {\n",
              "        text-align: right;\n",
              "    }\n",
              "</style>\n",
              "<table border=\"1\" class=\"dataframe\">\n",
              "  <thead>\n",
              "    <tr style=\"text-align: right;\">\n",
              "      <th></th>\n",
              "      <th>id</th>\n",
              "      <th>per_square_meter_price</th>\n",
              "    </tr>\n",
              "  </thead>\n",
              "  <tbody>\n",
              "    <tr>\n",
              "      <th>0</th>\n",
              "      <td>COL_289284</td>\n",
              "      <td>47217.539062</td>\n",
              "    </tr>\n",
              "    <tr>\n",
              "      <th>1</th>\n",
              "      <td>COL_289305</td>\n",
              "      <td>41971.726562</td>\n",
              "    </tr>\n",
              "    <tr>\n",
              "      <th>2</th>\n",
              "      <td>COL_289318</td>\n",
              "      <td>41506.843750</td>\n",
              "    </tr>\n",
              "    <tr>\n",
              "      <th>3</th>\n",
              "      <td>COL_289354</td>\n",
              "      <td>83178.945312</td>\n",
              "    </tr>\n",
              "    <tr>\n",
              "      <th>4</th>\n",
              "      <td>COL_289399</td>\n",
              "      <td>48581.695312</td>\n",
              "    </tr>\n",
              "  </tbody>\n",
              "</table>\n",
              "</div>"
            ],
            "text/plain": [
              "           id  per_square_meter_price\n",
              "0  COL_289284            47217.539062\n",
              "1  COL_289305            41971.726562\n",
              "2  COL_289318            41506.843750\n",
              "3  COL_289354            83178.945312\n",
              "4  COL_289399            48581.695312"
            ]
          },
          "metadata": {},
          "execution_count": 243
        }
      ]
    },
    {
      "cell_type": "code",
      "metadata": {
        "colab": {
          "base_uri": "https://localhost:8080/",
          "height": 206
        },
        "id": "8896bedd",
        "outputId": "00a1c8da-03ed-4193-a157-7ca19ec39225"
      },
      "source": [
        "predict_bagg_lgbm = np.exp(bagg_lgbm.predict(X_sub))\n",
        "\n",
        "sample['per_square_meter_price'] = predict_bagg_lgbm\n",
        "sample['per_square_meter_price'] = sample['per_square_meter_price'] * 0.94\n",
        "sample.to_csv('/drive/My Drive/Segodnya_DS/submission_bagg_lgbmr.csv', index=False)\n",
        "sample.head()\n",
        "\n",
        "# "
      ],
      "id": "8896bedd",
      "execution_count": 244,
      "outputs": [
        {
          "output_type": "execute_result",
          "data": {
            "text/html": [
              "<div>\n",
              "<style scoped>\n",
              "    .dataframe tbody tr th:only-of-type {\n",
              "        vertical-align: middle;\n",
              "    }\n",
              "\n",
              "    .dataframe tbody tr th {\n",
              "        vertical-align: top;\n",
              "    }\n",
              "\n",
              "    .dataframe thead th {\n",
              "        text-align: right;\n",
              "    }\n",
              "</style>\n",
              "<table border=\"1\" class=\"dataframe\">\n",
              "  <thead>\n",
              "    <tr style=\"text-align: right;\">\n",
              "      <th></th>\n",
              "      <th>id</th>\n",
              "      <th>per_square_meter_price</th>\n",
              "    </tr>\n",
              "  </thead>\n",
              "  <tbody>\n",
              "    <tr>\n",
              "      <th>0</th>\n",
              "      <td>COL_289284</td>\n",
              "      <td>46209.414158</td>\n",
              "    </tr>\n",
              "    <tr>\n",
              "      <th>1</th>\n",
              "      <td>COL_289305</td>\n",
              "      <td>40394.886286</td>\n",
              "    </tr>\n",
              "    <tr>\n",
              "      <th>2</th>\n",
              "      <td>COL_289318</td>\n",
              "      <td>41879.870858</td>\n",
              "    </tr>\n",
              "    <tr>\n",
              "      <th>3</th>\n",
              "      <td>COL_289354</td>\n",
              "      <td>87337.951206</td>\n",
              "    </tr>\n",
              "    <tr>\n",
              "      <th>4</th>\n",
              "      <td>COL_289399</td>\n",
              "      <td>47013.312578</td>\n",
              "    </tr>\n",
              "  </tbody>\n",
              "</table>\n",
              "</div>"
            ],
            "text/plain": [
              "           id  per_square_meter_price\n",
              "0  COL_289284            46209.414158\n",
              "1  COL_289305            40394.886286\n",
              "2  COL_289318            41879.870858\n",
              "3  COL_289354            87337.951206\n",
              "4  COL_289399            47013.312578"
            ]
          },
          "metadata": {},
          "execution_count": 244
        }
      ]
    }
  ]
}