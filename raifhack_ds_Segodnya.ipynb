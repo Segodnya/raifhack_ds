{
 "cells": [
  {
   "cell_type": "markdown",
   "id": "4c4c5ad0",
   "metadata": {},
   "source": [
    "# IMPORTS"
   ]
  },
  {
   "cell_type": "code",
   "execution_count": 1,
   "id": "98706ebe",
   "metadata": {},
   "outputs": [
    {
     "ename": "OSError",
     "evalue": "dlopen(/Users/forzarossa/opt/anaconda3/lib/python3.8/site-packages/lightgbm/lib_lightgbm.so, 6): Library not loaded: /usr/local/opt/libomp/lib/libomp.dylib\n  Referenced from: /Users/forzarossa/opt/anaconda3/lib/python3.8/site-packages/lightgbm/lib_lightgbm.so\n  Reason: image not found",
     "output_type": "error",
     "traceback": [
      "\u001b[0;31m---------------------------------------------------------------------------\u001b[0m",
      "\u001b[0;31mOSError\u001b[0m                                   Traceback (most recent call last)",
      "\u001b[0;32m<ipython-input-1-93c2112518d2>\u001b[0m in \u001b[0;36m<module>\u001b[0;34m\u001b[0m\n\u001b[1;32m      9\u001b[0m \u001b[0;32mfrom\u001b[0m \u001b[0msklearn\u001b[0m\u001b[0;34m.\u001b[0m\u001b[0mpreprocessing\u001b[0m \u001b[0;32mimport\u001b[0m \u001b[0mMinMaxScaler\u001b[0m\u001b[0;34m\u001b[0m\u001b[0;34m\u001b[0m\u001b[0m\n\u001b[1;32m     10\u001b[0m \u001b[0;32mfrom\u001b[0m \u001b[0msklearn\u001b[0m\u001b[0;34m.\u001b[0m\u001b[0mmodel_selection\u001b[0m \u001b[0;32mimport\u001b[0m \u001b[0mtrain_test_split\u001b[0m\u001b[0;34m\u001b[0m\u001b[0;34m\u001b[0m\u001b[0m\n\u001b[0;32m---> 11\u001b[0;31m \u001b[0;32mfrom\u001b[0m \u001b[0mlightgbm\u001b[0m \u001b[0;32mimport\u001b[0m \u001b[0mLGBMRegressor\u001b[0m\u001b[0;34m\u001b[0m\u001b[0;34m\u001b[0m\u001b[0m\n\u001b[0m\u001b[1;32m     12\u001b[0m \u001b[0;32mfrom\u001b[0m \u001b[0mcatboost\u001b[0m \u001b[0;32mimport\u001b[0m \u001b[0mCatBoostRegressor\u001b[0m\u001b[0;34m\u001b[0m\u001b[0;34m\u001b[0m\u001b[0m\n\u001b[1;32m     13\u001b[0m \u001b[0;32mfrom\u001b[0m \u001b[0msklearn\u001b[0m\u001b[0;34m.\u001b[0m\u001b[0mensemble\u001b[0m \u001b[0;32mimport\u001b[0m \u001b[0mBaggingRegressor\u001b[0m\u001b[0;34m\u001b[0m\u001b[0;34m\u001b[0m\u001b[0m\n",
      "\u001b[0;32m~/opt/anaconda3/lib/python3.8/site-packages/lightgbm/__init__.py\u001b[0m in \u001b[0;36m<module>\u001b[0;34m\u001b[0m\n\u001b[1;32m      6\u001b[0m \u001b[0;32mimport\u001b[0m \u001b[0mos\u001b[0m\u001b[0;34m\u001b[0m\u001b[0;34m\u001b[0m\u001b[0m\n\u001b[1;32m      7\u001b[0m \u001b[0;34m\u001b[0m\u001b[0m\n\u001b[0;32m----> 8\u001b[0;31m \u001b[0;32mfrom\u001b[0m \u001b[0;34m.\u001b[0m\u001b[0mbasic\u001b[0m \u001b[0;32mimport\u001b[0m \u001b[0mBooster\u001b[0m\u001b[0;34m,\u001b[0m \u001b[0mDataset\u001b[0m\u001b[0;34m,\u001b[0m \u001b[0mregister_logger\u001b[0m\u001b[0;34m\u001b[0m\u001b[0;34m\u001b[0m\u001b[0m\n\u001b[0m\u001b[1;32m      9\u001b[0m \u001b[0;32mfrom\u001b[0m \u001b[0;34m.\u001b[0m\u001b[0mcallback\u001b[0m \u001b[0;32mimport\u001b[0m \u001b[0mearly_stopping\u001b[0m\u001b[0;34m,\u001b[0m \u001b[0mprint_evaluation\u001b[0m\u001b[0;34m,\u001b[0m \u001b[0mrecord_evaluation\u001b[0m\u001b[0;34m,\u001b[0m \u001b[0mreset_parameter\u001b[0m\u001b[0;34m\u001b[0m\u001b[0;34m\u001b[0m\u001b[0m\n\u001b[1;32m     10\u001b[0m \u001b[0;32mfrom\u001b[0m \u001b[0;34m.\u001b[0m\u001b[0mengine\u001b[0m \u001b[0;32mimport\u001b[0m \u001b[0mCVBooster\u001b[0m\u001b[0;34m,\u001b[0m \u001b[0mcv\u001b[0m\u001b[0;34m,\u001b[0m \u001b[0mtrain\u001b[0m\u001b[0;34m\u001b[0m\u001b[0;34m\u001b[0m\u001b[0m\n",
      "\u001b[0;32m~/opt/anaconda3/lib/python3.8/site-packages/lightgbm/basic.py\u001b[0m in \u001b[0;36m<module>\u001b[0;34m\u001b[0m\n\u001b[1;32m     93\u001b[0m \u001b[0;34m\u001b[0m\u001b[0m\n\u001b[1;32m     94\u001b[0m \u001b[0;34m\u001b[0m\u001b[0m\n\u001b[0;32m---> 95\u001b[0;31m \u001b[0m_LIB\u001b[0m \u001b[0;34m=\u001b[0m \u001b[0m_load_lib\u001b[0m\u001b[0;34m(\u001b[0m\u001b[0;34m)\u001b[0m\u001b[0;34m\u001b[0m\u001b[0;34m\u001b[0m\u001b[0m\n\u001b[0m\u001b[1;32m     96\u001b[0m \u001b[0;34m\u001b[0m\u001b[0m\n\u001b[1;32m     97\u001b[0m \u001b[0;34m\u001b[0m\u001b[0m\n",
      "\u001b[0;32m~/opt/anaconda3/lib/python3.8/site-packages/lightgbm/basic.py\u001b[0m in \u001b[0;36m_load_lib\u001b[0;34m()\u001b[0m\n\u001b[1;32m     84\u001b[0m     \u001b[0;32mif\u001b[0m \u001b[0mlen\u001b[0m\u001b[0;34m(\u001b[0m\u001b[0mlib_path\u001b[0m\u001b[0;34m)\u001b[0m \u001b[0;34m==\u001b[0m \u001b[0;36m0\u001b[0m\u001b[0;34m:\u001b[0m\u001b[0;34m\u001b[0m\u001b[0;34m\u001b[0m\u001b[0m\n\u001b[1;32m     85\u001b[0m         \u001b[0;32mreturn\u001b[0m \u001b[0;32mNone\u001b[0m\u001b[0;34m\u001b[0m\u001b[0;34m\u001b[0m\u001b[0m\n\u001b[0;32m---> 86\u001b[0;31m     \u001b[0mlib\u001b[0m \u001b[0;34m=\u001b[0m \u001b[0mctypes\u001b[0m\u001b[0;34m.\u001b[0m\u001b[0mcdll\u001b[0m\u001b[0;34m.\u001b[0m\u001b[0mLoadLibrary\u001b[0m\u001b[0;34m(\u001b[0m\u001b[0mlib_path\u001b[0m\u001b[0;34m[\u001b[0m\u001b[0;36m0\u001b[0m\u001b[0;34m]\u001b[0m\u001b[0;34m)\u001b[0m\u001b[0;34m\u001b[0m\u001b[0;34m\u001b[0m\u001b[0m\n\u001b[0m\u001b[1;32m     87\u001b[0m     \u001b[0mlib\u001b[0m\u001b[0;34m.\u001b[0m\u001b[0mLGBM_GetLastError\u001b[0m\u001b[0;34m.\u001b[0m\u001b[0mrestype\u001b[0m \u001b[0;34m=\u001b[0m \u001b[0mctypes\u001b[0m\u001b[0;34m.\u001b[0m\u001b[0mc_char_p\u001b[0m\u001b[0;34m\u001b[0m\u001b[0;34m\u001b[0m\u001b[0m\n\u001b[1;32m     88\u001b[0m     \u001b[0mcallback\u001b[0m \u001b[0;34m=\u001b[0m \u001b[0mctypes\u001b[0m\u001b[0;34m.\u001b[0m\u001b[0mCFUNCTYPE\u001b[0m\u001b[0;34m(\u001b[0m\u001b[0;32mNone\u001b[0m\u001b[0;34m,\u001b[0m \u001b[0mctypes\u001b[0m\u001b[0;34m.\u001b[0m\u001b[0mc_char_p\u001b[0m\u001b[0;34m)\u001b[0m\u001b[0;34m\u001b[0m\u001b[0;34m\u001b[0m\u001b[0m\n",
      "\u001b[0;32m~/opt/anaconda3/lib/python3.8/ctypes/__init__.py\u001b[0m in \u001b[0;36mLoadLibrary\u001b[0;34m(self, name)\u001b[0m\n\u001b[1;32m    457\u001b[0m \u001b[0;34m\u001b[0m\u001b[0m\n\u001b[1;32m    458\u001b[0m     \u001b[0;32mdef\u001b[0m \u001b[0mLoadLibrary\u001b[0m\u001b[0;34m(\u001b[0m\u001b[0mself\u001b[0m\u001b[0;34m,\u001b[0m \u001b[0mname\u001b[0m\u001b[0;34m)\u001b[0m\u001b[0;34m:\u001b[0m\u001b[0;34m\u001b[0m\u001b[0;34m\u001b[0m\u001b[0m\n\u001b[0;32m--> 459\u001b[0;31m         \u001b[0;32mreturn\u001b[0m \u001b[0mself\u001b[0m\u001b[0;34m.\u001b[0m\u001b[0m_dlltype\u001b[0m\u001b[0;34m(\u001b[0m\u001b[0mname\u001b[0m\u001b[0;34m)\u001b[0m\u001b[0;34m\u001b[0m\u001b[0;34m\u001b[0m\u001b[0m\n\u001b[0m\u001b[1;32m    460\u001b[0m \u001b[0;34m\u001b[0m\u001b[0m\n\u001b[1;32m    461\u001b[0m \u001b[0mcdll\u001b[0m \u001b[0;34m=\u001b[0m \u001b[0mLibraryLoader\u001b[0m\u001b[0;34m(\u001b[0m\u001b[0mCDLL\u001b[0m\u001b[0;34m)\u001b[0m\u001b[0;34m\u001b[0m\u001b[0;34m\u001b[0m\u001b[0m\n",
      "\u001b[0;32m~/opt/anaconda3/lib/python3.8/ctypes/__init__.py\u001b[0m in \u001b[0;36m__init__\u001b[0;34m(self, name, mode, handle, use_errno, use_last_error, winmode)\u001b[0m\n\u001b[1;32m    379\u001b[0m \u001b[0;34m\u001b[0m\u001b[0m\n\u001b[1;32m    380\u001b[0m         \u001b[0;32mif\u001b[0m \u001b[0mhandle\u001b[0m \u001b[0;32mis\u001b[0m \u001b[0;32mNone\u001b[0m\u001b[0;34m:\u001b[0m\u001b[0;34m\u001b[0m\u001b[0;34m\u001b[0m\u001b[0m\n\u001b[0;32m--> 381\u001b[0;31m             \u001b[0mself\u001b[0m\u001b[0;34m.\u001b[0m\u001b[0m_handle\u001b[0m \u001b[0;34m=\u001b[0m \u001b[0m_dlopen\u001b[0m\u001b[0;34m(\u001b[0m\u001b[0mself\u001b[0m\u001b[0;34m.\u001b[0m\u001b[0m_name\u001b[0m\u001b[0;34m,\u001b[0m \u001b[0mmode\u001b[0m\u001b[0;34m)\u001b[0m\u001b[0;34m\u001b[0m\u001b[0;34m\u001b[0m\u001b[0m\n\u001b[0m\u001b[1;32m    382\u001b[0m         \u001b[0;32melse\u001b[0m\u001b[0;34m:\u001b[0m\u001b[0;34m\u001b[0m\u001b[0;34m\u001b[0m\u001b[0m\n\u001b[1;32m    383\u001b[0m             \u001b[0mself\u001b[0m\u001b[0;34m.\u001b[0m\u001b[0m_handle\u001b[0m \u001b[0;34m=\u001b[0m \u001b[0mhandle\u001b[0m\u001b[0;34m\u001b[0m\u001b[0;34m\u001b[0m\u001b[0m\n",
      "\u001b[0;31mOSError\u001b[0m: dlopen(/Users/forzarossa/opt/anaconda3/lib/python3.8/site-packages/lightgbm/lib_lightgbm.so, 6): Library not loaded: /usr/local/opt/libomp/lib/libomp.dylib\n  Referenced from: /Users/forzarossa/opt/anaconda3/lib/python3.8/site-packages/lightgbm/lib_lightgbm.so\n  Reason: image not found"
     ]
    }
   ],
   "source": [
    "import numpy as np\n",
    "import pandas as pd\n",
    "import matplotlib.pyplot as plt\n",
    "import seaborn as sns\n",
    "\n",
    "from datetime import datetime\n",
    "\n",
    "from sklearn.feature_selection import f_classif, mutual_info_classif\n",
    "from sklearn.preprocessing import MinMaxScaler\n",
    "from sklearn.model_selection import train_test_split\n",
    "from lightgbm import LGBMRegressor\n",
    "from catboost import CatBoostRegressor\n",
    "from sklearn.ensemble import BaggingRegressor\n",
    "\n",
    "RANDOM_SEED = 42\n",
    "VAL_SIZE = 0.2\n",
    "\n",
    "# settings to display all columns\n",
    "pd.set_option(\"display.max_columns\", None)\n",
    "pd.set_option(\"display.max_rows\", None)\n",
    "\n",
    "# зафиксируем версию пакетов, чтобы эксперименты были воспроизводимы\n",
    "!pip freeze > requirements.txt\n",
    "\n",
    "def get_metric(y_true, y_pred):\n",
    "    return np.mean(np.abs(((y_true - y_pred) / y_true)))\n",
    "\n",
    "\n",
    "def get_boxplot(df, col):\n",
    "    # draw a boxplot\n",
    "    fig, axes = plt.subplots(figsize = (14, 4))\n",
    "    sns.boxplot(x='per_square_meter_price', y=col, data=df, ax=axes)\n",
    "    axes.set_title('Boxplot for ' + col)\n",
    "    plt.show()\n",
    "\n",
    "\n",
    "def getFeaturesInfo(df):\n",
    "    # num of unique values, first 10 unique values, null values count, type\n",
    "    df_agg = df.agg({'nunique', lambda s: s.unique()[:10]})\\\n",
    "        .append(pd.Series(df.isnull().sum(), name='null'))\\\n",
    "        .append(pd.Series(df.dtypes, name='dtype'))\\\n",
    "        .transpose()\n",
    "    \n",
    "    return df_agg\n",
    "\n",
    "\n",
    "import typing\n",
    "from sklearn.metrics import mean_absolute_percentage_error, r2_score, mean_squared_error\n",
    "\n",
    "THRESHOLD = 0.15\n",
    "NEGATIVE_WEIGHT = 1.1\n",
    "\n",
    "def deviation_metric_one_sample(y_true: typing.Union[float, int], y_pred: typing.Union[float, int]) -> float:\n",
    "    \"\"\"\n",
    "    Реализация кастомной метрики для хакатона.\n",
    "\n",
    "    :param y_true: float, реальная цена\n",
    "    :param y_pred: float, предсказанная цена\n",
    "    :return: float, значение метрики\n",
    "    \"\"\"\n",
    "    deviation = (y_pred - y_true) / np.maximum(1e-8, y_true)\n",
    "    if np.abs(deviation) <= THRESHOLD:\n",
    "        return 0\n",
    "    elif deviation <= - 4 * THRESHOLD:\n",
    "        return 9 * NEGATIVE_WEIGHT\n",
    "    elif deviation < -THRESHOLD:\n",
    "        return NEGATIVE_WEIGHT * ((deviation / THRESHOLD) + 1) ** 2\n",
    "    elif deviation < 4 * THRESHOLD:\n",
    "        return ((deviation / THRESHOLD) - 1) ** 2\n",
    "    else:\n",
    "        return 9\n",
    "\n",
    "\n",
    "def deviation_metric(y_true: np.array, y_pred: np.array) -> float:\n",
    "    return np.array([deviation_metric_one_sample(y_true[n], y_pred[n]) for n in range(len(y_true))]).mean()\n",
    "\n",
    "def median_absolute_percentage_error(y_true: np.array, y_pred: np.array) -> float:\n",
    "    return np.median(np.abs(y_pred-y_true)/y_true)\n",
    "\n",
    "def metrics_stat(y_true: np.array, y_pred: np.array) -> typing.Dict[str,float]:\n",
    "    mape = mean_absolute_percentage_error(y_true, y_pred)\n",
    "    mdape = median_absolute_percentage_error(y_true, y_pred)\n",
    "    rmse = mean_squared_error(y_true, y_pred, squared=False)\n",
    "    r2 = r2_score(y_true, y_pred)\n",
    "    raif_metric = deviation_metric(y_true, y_pred)\n",
    "    return {'mape':mape, 'mdape':mdape, 'rmse': rmse, 'r2': r2, 'raif_metric':raif_metric}\n",
    "\n",
    "\n",
    "train = pd.read_csv('train.csv', low_memory=False)\n",
    "train.drop_duplicates(inplace=True)\n",
    "train.dropna(subset=['osm_city_nearest_population'], inplace=True)\n",
    "# train = train.query('price_type == 1')\n",
    "test = pd.read_csv('test.csv')\n",
    "sample = pd.read_csv('test_submission.csv')\n"
   ]
  },
  {
   "cell_type": "code",
   "execution_count": null,
   "id": "9d0068f4",
   "metadata": {
    "scrolled": false
   },
   "outputs": [],
   "source": [
    "# train.head(5).T"
   ]
  },
  {
   "cell_type": "code",
   "execution_count": null,
   "id": "bb647541",
   "metadata": {},
   "outputs": [],
   "source": [
    "# train.info()"
   ]
  },
  {
   "cell_type": "code",
   "execution_count": null,
   "id": "e95fcfea",
   "metadata": {},
   "outputs": [],
   "source": [
    "# test.head()"
   ]
  },
  {
   "cell_type": "code",
   "execution_count": null,
   "id": "c9232ea7",
   "metadata": {},
   "outputs": [],
   "source": [
    "# test.info()"
   ]
  },
  {
   "cell_type": "code",
   "execution_count": null,
   "id": "10d4611d",
   "metadata": {},
   "outputs": [],
   "source": [
    "# sample.head()"
   ]
  },
  {
   "cell_type": "code",
   "execution_count": null,
   "id": "03ff63cc",
   "metadata": {},
   "outputs": [],
   "source": [
    "# sample.info()"
   ]
  },
  {
   "cell_type": "markdown",
   "id": "d7830ffd",
   "metadata": {},
   "source": [
    "# EDA"
   ]
  },
  {
   "cell_type": "code",
   "execution_count": null,
   "id": "6af23be9",
   "metadata": {
    "scrolled": false
   },
   "outputs": [],
   "source": [
    "getFeaturesInfo(train)"
   ]
  },
  {
   "cell_type": "code",
   "execution_count": null,
   "id": "40ad811a",
   "metadata": {
    "scrolled": false
   },
   "outputs": [],
   "source": [
    "getFeaturesInfo(test)"
   ]
  },
  {
   "cell_type": "markdown",
   "id": "efbd85c4",
   "metadata": {},
   "source": [
    "## per_square_meter_price"
   ]
  },
  {
   "cell_type": "code",
   "execution_count": null,
   "id": "25bca5db",
   "metadata": {},
   "outputs": [],
   "source": [
    "train['per_square_meter_price'].isna().sum()"
   ]
  },
  {
   "cell_type": "code",
   "execution_count": null,
   "id": "2ab854c7",
   "metadata": {},
   "outputs": [],
   "source": [
    "train['per_square_meter_price'].sort_values().head()"
   ]
  },
  {
   "cell_type": "code",
   "execution_count": null,
   "id": "dbad942c",
   "metadata": {},
   "outputs": [],
   "source": [
    "train['per_square_meter_price'].sort_values().tail()"
   ]
  },
  {
   "cell_type": "code",
   "execution_count": null,
   "id": "6c4bcafc",
   "metadata": {},
   "outputs": [],
   "source": [
    "PRICE_CORRECTOR = train.groupby('price_type')['per_square_meter_price'].mean()[0] / train.groupby('price_type')['per_square_meter_price'].mean()[1]\n",
    "PRICE_CORRECTOR\n"
   ]
  },
  {
   "cell_type": "code",
   "execution_count": null,
   "id": "52dcc91c",
   "metadata": {},
   "outputs": [],
   "source": []
  },
  {
   "cell_type": "markdown",
   "id": "d74847fc",
   "metadata": {},
   "source": [
    "## city"
   ]
  },
  {
   "cell_type": "code",
   "execution_count": null,
   "id": "07bd127c",
   "metadata": {},
   "outputs": [],
   "source": [
    "train['city'].isna().sum()"
   ]
  },
  {
   "cell_type": "code",
   "execution_count": null,
   "id": "0a11454b",
   "metadata": {},
   "outputs": [],
   "source": [
    "test['city'].isna().sum()"
   ]
  },
  {
   "cell_type": "code",
   "execution_count": null,
   "id": "ac5f52ee",
   "metadata": {},
   "outputs": [],
   "source": [
    "top_city = list(train['city'].value_counts().head(15).index)\n",
    "\n",
    "train['city'] = train['city'].apply(lambda x: x if x in top_city else 'other')\n",
    "test['city'] = test['city'].apply(lambda x: x if x in top_city else 'other')"
   ]
  },
  {
   "cell_type": "code",
   "execution_count": null,
   "id": "4227edf8",
   "metadata": {},
   "outputs": [],
   "source": [
    "train['city'].value_counts()"
   ]
  },
  {
   "cell_type": "code",
   "execution_count": null,
   "id": "a16cd164",
   "metadata": {},
   "outputs": [],
   "source": [
    "test['city'].value_counts()"
   ]
  },
  {
   "cell_type": "markdown",
   "id": "8c3a995d",
   "metadata": {},
   "source": [
    "## region"
   ]
  },
  {
   "cell_type": "code",
   "execution_count": null,
   "id": "de4fbc0c",
   "metadata": {},
   "outputs": [],
   "source": [
    "top_region = list(train['region'].value_counts().head(15).index)\n",
    "\n",
    "train['region'] = train['region'].apply(lambda x: x if x in top_region else 'other')\n",
    "test['region'] = test['region'].apply(lambda x: x if x in top_region else 'other')"
   ]
  },
  {
   "cell_type": "code",
   "execution_count": null,
   "id": "cb3a712a",
   "metadata": {},
   "outputs": [],
   "source": [
    "train['region'].value_counts()"
   ]
  },
  {
   "cell_type": "code",
   "execution_count": null,
   "id": "55f506fe",
   "metadata": {},
   "outputs": [],
   "source": [
    "test['region'].value_counts()"
   ]
  },
  {
   "cell_type": "markdown",
   "id": "cec485ba",
   "metadata": {},
   "source": [
    "## floor"
   ]
  },
  {
   "cell_type": "code",
   "execution_count": null,
   "id": "9e6e7837",
   "metadata": {},
   "outputs": [],
   "source": [
    "train['floor_empty'] = pd.isna(train['floor']).astype('uint8')\n",
    "test['floor_empty'] = pd.isna(test['floor']).astype('uint8')\n",
    "\n"
   ]
  },
  {
   "cell_type": "code",
   "execution_count": null,
   "id": "4db44058",
   "metadata": {},
   "outputs": [],
   "source": [
    "train['floor_multi'] = train['floor'].apply(lambda x: 1 if ',' in str(x) else 0)\n",
    "test['floor_multi'] = test['floor'].apply(lambda x: 1 if ',' in str(x) else 0)\n"
   ]
  },
  {
   "cell_type": "code",
   "execution_count": null,
   "id": "0e7fa3f6",
   "metadata": {},
   "outputs": [],
   "source": [
    "train['floor'].fillna(0.0, inplace=True)\n",
    "test['floor'].fillna(0.0, inplace=True)\n"
   ]
  },
  {
   "cell_type": "code",
   "execution_count": null,
   "id": "14e4f1e0",
   "metadata": {},
   "outputs": [],
   "source": [
    "train['floor'] = train['floor'].apply(lambda x: 0 if 'цок' in str(x).lower()\n",
    "                                      or 'подва' in str(x).lower()\n",
    "                                      or 'этаж' in str(x).lower()\n",
    "                                      or 'манс' in str(x).lower()\n",
    "                                      or 'антрес' in str(x).lower()\n",
    "                                      or 'мезон' in str(x).lower()\n",
    "                                      or 'техн' in str(x).lower()\n",
    "                                      or ',' in str(x).lower()\n",
    "                                      or '-' in str(x).lower() else x)\n",
    "test['floor'] = test['floor'].apply(lambda x: 0 if 'цок' in str(x).lower()\n",
    "                                      or 'подва' in str(x).lower()\n",
    "                                      or 'этаж' in str(x).lower()\n",
    "                                      or 'манс' in str(x).lower()\n",
    "                                      or 'антрес' in str(x).lower()\n",
    "                                      or 'мезон' in str(x).lower()\n",
    "                                      or 'техн' in str(x).lower()\n",
    "                                      or ',' in str(x).lower()\n",
    "                                      or '-' in str(x).lower() else x)\n",
    "\n",
    "train['floor'] = train['floor'].apply(lambda x: int(float(str(x))))\n",
    "test['floor'] = test['floor'].apply(lambda x: int(float(str(x))))\n"
   ]
  },
  {
   "cell_type": "markdown",
   "id": "14bdc0f1",
   "metadata": {},
   "source": [
    "## total_square"
   ]
  },
  {
   "cell_type": "code",
   "execution_count": null,
   "id": "aee1e9ea",
   "metadata": {},
   "outputs": [],
   "source": [
    "train['total_square'].isna().sum()"
   ]
  },
  {
   "cell_type": "code",
   "execution_count": null,
   "id": "89a0f978",
   "metadata": {},
   "outputs": [],
   "source": [
    "test['total_square'].isna().sum()"
   ]
  },
  {
   "cell_type": "code",
   "execution_count": null,
   "id": "12f8c692",
   "metadata": {
    "scrolled": true
   },
   "outputs": [],
   "source": [
    "# train['total_square'].sort_values()"
   ]
  },
  {
   "cell_type": "code",
   "execution_count": null,
   "id": "9cd61826",
   "metadata": {},
   "outputs": [],
   "source": [
    "# test['total_square'].sort_values()"
   ]
  },
  {
   "cell_type": "markdown",
   "id": "d8e2d164",
   "metadata": {},
   "source": [
    "## price_type"
   ]
  },
  {
   "cell_type": "code",
   "execution_count": null,
   "id": "b08f5773",
   "metadata": {},
   "outputs": [],
   "source": [
    "train['price_type'].value_counts()"
   ]
  },
  {
   "cell_type": "code",
   "execution_count": null,
   "id": "6b3a324d",
   "metadata": {},
   "outputs": [],
   "source": [
    "test['price_type'].value_counts()"
   ]
  },
  {
   "cell_type": "markdown",
   "id": "9926217b",
   "metadata": {},
   "source": [
    "## reform"
   ]
  },
  {
   "cell_type": "code",
   "execution_count": null,
   "id": "ee8e51e1",
   "metadata": {},
   "outputs": [],
   "source": [
    "reform_cols = [\n",
    "    'reform_house_population_1000',\n",
    "    'reform_house_population_500',\n",
    "    'reform_mean_floor_count_1000',\n",
    "    'reform_mean_floor_count_500',\n",
    "    'reform_mean_year_building_1000',\n",
    "    'reform_mean_year_building_500'\n",
    "]\n",
    "\n",
    "for col in reform_cols:\n",
    "    train[col] = train[col].fillna(train.groupby('city')[col].transform('median'))\n",
    "    test[col] = test[col].fillna(test.groupby('city')[col].transform('median'))"
   ]
  },
  {
   "cell_type": "markdown",
   "id": "e930ba57",
   "metadata": {},
   "source": [
    "# LABEL ENCODING"
   ]
  },
  {
   "cell_type": "code",
   "execution_count": null,
   "id": "f667d4b9",
   "metadata": {},
   "outputs": [],
   "source": [
    "# ВАЖНО! дря корректной обработки признаков объединяем трейн и тест в один датасет\n",
    "train['sample'] = 1 # помечаем где у нас трейн\n",
    "test['sample'] = 0 # помечаем где у нас тест\n",
    "\n",
    "data = test.append(train, sort=False).reset_index(drop=True) # объединяем"
   ]
  },
  {
   "cell_type": "code",
   "execution_count": null,
   "id": "999b90a5",
   "metadata": {},
   "outputs": [],
   "source": [
    "bin_cols = [\n",
    "    'floor_empty',\n",
    "    'floor_multi'\n",
    "]\n",
    "\n",
    "cat_cols = [\n",
    "    'city',\n",
    "    'realty_type',\n",
    "]\n",
    "\n",
    "num_cols = [\n",
    "    'floor',\n",
    "    'lat',\n",
    "    'lng',\n",
    "    'osm_amenity_points_in_0.01',\n",
    "    'osm_catering_points_in_0.001',\n",
    "    'osm_city_closest_dist',\n",
    "    'osm_city_nearest_population',\n",
    "    'osm_crossing_closest_dist',\n",
    "    'osm_crossing_points_in_0.01',\n",
    "    'osm_finance_points_in_0.01',\n",
    "    'osm_healthcare_points_in_0.01',\n",
    "    'osm_historic_points_in_0.005',\n",
    "    'osm_hotels_points_in_0.01',\n",
    "    'osm_leisure_points_in_0.01',\n",
    "    'osm_offices_points_in_0.01',\n",
    "    'osm_shops_points_in_0.01',\n",
    "    'osm_subway_closest_dist',\n",
    "    'osm_train_stop_closest_dist',\n",
    "    'osm_train_stop_points_in_0.01',\n",
    "    'osm_transport_stop_points_in_0.01',\n",
    "    'reform_count_of_houses_1000',\n",
    "    'reform_house_population_1000',\n",
    "    'reform_mean_floor_count_1000',\n",
    "    'reform_mean_floor_count_500',\n",
    "    'reform_mean_year_building_1000',\n",
    "]\n",
    "\n",
    "for colum in cat_cols:\n",
    "    data[colum] = data[colum].astype('category').cat.codes"
   ]
  },
  {
   "cell_type": "markdown",
   "id": "de0f9f80",
   "metadata": {},
   "source": [
    "## Feature Importance"
   ]
  },
  {
   "cell_type": "code",
   "execution_count": null,
   "id": "f82f89b8",
   "metadata": {},
   "outputs": [],
   "source": [
    "data_temp = data.loc[data['sample'] == 1].drop(['sample'], axis=1)"
   ]
  },
  {
   "cell_type": "code",
   "execution_count": null,
   "id": "47cbd1d6",
   "metadata": {},
   "outputs": [],
   "source": [
    "imp_num = pd.Series(f_classif(data_temp[num_cols], data_temp['per_square_meter_price'])[0], index=num_cols)\n",
    "imp_num.sort_values(inplace=True)\n",
    "imp_num.plot(kind = 'barh', color='pink', title='Numeric Features Importance')"
   ]
  },
  {
   "cell_type": "code",
   "execution_count": null,
   "id": "9c7ddc74",
   "metadata": {},
   "outputs": [],
   "source": [
    "imp_num\n",
    "\n",
    "# osm_building_points is less important than other"
   ]
  },
  {
   "cell_type": "markdown",
   "id": "453a8c98",
   "metadata": {},
   "source": [
    "## Get Dummies"
   ]
  },
  {
   "cell_type": "code",
   "execution_count": null,
   "id": "84e3a4a3",
   "metadata": {},
   "outputs": [],
   "source": [
    "data = pd.get_dummies(data, prefix=cat_cols, columns=cat_cols)"
   ]
  },
  {
   "cell_type": "code",
   "execution_count": null,
   "id": "3c80c737",
   "metadata": {},
   "outputs": [],
   "source": [
    "cat_cols = [\n",
    "    'city_0',\n",
    "    'city_1',\n",
    "    'city_2',\n",
    "    'city_3',\n",
    "    'city_4',\n",
    "    'city_5',\n",
    "    'city_6',\n",
    "    'city_7',\n",
    "    'city_8',\n",
    "    'city_9',\n",
    "    'city_10',\n",
    "    'city_11',\n",
    "    'city_12',\n",
    "    'city_13',\n",
    "    'city_14',\n",
    "    'city_15',\n",
    "    'realty_type_0',\n",
    "    'realty_type_1',\n",
    "    'realty_type_2'\n",
    "]"
   ]
  },
  {
   "cell_type": "markdown",
   "id": "3f2f60e7",
   "metadata": {},
   "source": [
    "## Outliers and Standartization"
   ]
  },
  {
   "cell_type": "code",
   "execution_count": null,
   "id": "40cf42ef",
   "metadata": {},
   "outputs": [],
   "source": [
    "for col in num_cols:\n",
    "    if col == 'floor' or col == 'lat' or col == 'lng':\n",
    "        pass\n",
    "    else:\n",
    "        median = data[col].median()\n",
    "        IQR = data[col].quantile(0.75) - data[col].quantile(0.25)\n",
    "        perc25 = data[col].quantile(0.25)\n",
    "        perc75 = data[col].quantile(0.75)\n",
    "\n",
    "        print(\"Column: \", col)\n",
    "        print(' 25%: {:.4},\\n'.format(perc25), '75%: {:.4},\\n'.format(perc75),\n",
    "              \"IQR: {:.4}, \\n\".format(IQR), \"Borderline: [{f:.4}, {l:.4}].\\n\".format(f=perc25 - 1.5*IQR, l=perc75 + 1.5*IQR))\n",
    "        print()\n",
    "\n",
    "        # replace outliers with border-values\n",
    "        data[col] = np.where(data[col] > (perc75 + 1.5*IQR), (perc75 + 1.5*IQR), data[col])\n",
    "        data[col] = np.where(data[col] < (perc25 - 1.5*IQR), (perc25 - 1.5*IQR), data[col])"
   ]
  },
  {
   "cell_type": "code",
   "execution_count": null,
   "id": "9715656d",
   "metadata": {},
   "outputs": [],
   "source": [
    "scaler = MinMaxScaler()\n",
    "data[num_cols] = scaler.fit_transform(data[num_cols].values)"
   ]
  },
  {
   "cell_type": "code",
   "execution_count": null,
   "id": "300bf0ea",
   "metadata": {},
   "outputs": [],
   "source": [
    "feat_cols = []\n",
    "feat_cols.append('per_square_meter_price')\n",
    "feat_cols.append('sample')\n",
    "for item in [num_cols, bin_cols, cat_cols]:\n",
    "    for elem in item:\n",
    "        feat_cols.append(elem)"
   ]
  },
  {
   "cell_type": "code",
   "execution_count": null,
   "id": "2cc8f40c",
   "metadata": {},
   "outputs": [],
   "source": [
    "data = data[feat_cols]"
   ]
  },
  {
   "cell_type": "code",
   "execution_count": null,
   "id": "956b22cd",
   "metadata": {},
   "outputs": [],
   "source": [
    "data.info()"
   ]
  },
  {
   "cell_type": "markdown",
   "id": "3c55ec5f",
   "metadata": {},
   "source": [
    "## Correlation Matrix"
   ]
  },
  {
   "cell_type": "code",
   "execution_count": null,
   "id": "d23821d2",
   "metadata": {},
   "outputs": [],
   "source": [
    "plt.title('Correlation Matrix of dataset features')\n",
    "plt.rcParams['figure.figsize'] = (30,20)\n",
    "sns.heatmap(data.corr(), vmin=-1, vmax=1, annot = False)"
   ]
  },
  {
   "cell_type": "code",
   "execution_count": null,
   "id": "0175cc32",
   "metadata": {},
   "outputs": [],
   "source": [
    "# show features with corr > 0.7\n",
    "corr = data.corr().abs()\n",
    "corr_table = corr.unstack()\n",
    "corr_table_sorted = corr_table.sort_values(kind=\"quicksort\", ascending=False)\n",
    "corr_exclude_ones = corr_table_sorted[corr_table_sorted != 1]\n",
    "high_corr = corr_exclude_ones[corr_exclude_ones >= 0.7]\n",
    "high_corr"
   ]
  },
  {
   "cell_type": "markdown",
   "id": "0d92bfa0",
   "metadata": {},
   "source": [
    "# MODEL"
   ]
  },
  {
   "cell_type": "code",
   "execution_count": null,
   "id": "cdd27d72",
   "metadata": {},
   "outputs": [],
   "source": [
    "train = data.query('sample == 1')\n",
    "test = data.query('sample == 0')\n",
    "\n",
    "X = train.drop(['sample', 'per_square_meter_price'], axis=1).values\n",
    "y = train['per_square_meter_price'].values\n",
    "\n",
    "X_sub = test.drop(['sample', 'per_square_meter_price'], axis=1).values"
   ]
  },
  {
   "cell_type": "code",
   "execution_count": null,
   "id": "300e18f5",
   "metadata": {},
   "outputs": [],
   "source": [
    "X_train, X_val, y_train, y_val = train_test_split(X, y, test_size=VAL_SIZE, shuffle=True, random_state=RANDOM_SEED)"
   ]
  },
  {
   "cell_type": "code",
   "execution_count": null,
   "id": "77d845cc",
   "metadata": {},
   "outputs": [],
   "source": [
    "start = datetime.now()\n",
    "\n",
    "lgbmr = LGBMRegressor(objective='regression', max_depth=12, num_leaves=1000,\n",
    "                      learning_rate=0.02, n_estimators=2000, metric='mape')\n",
    "\n",
    "lgbmr.fit(X_train, np.log(y_train))\n",
    "\n",
    "# оцениваем точность\n",
    "predict_lgbmr = np.exp(lgbmr.predict(X_val))\n",
    "print(f\"Точность модели по метрике MAPE: {(deviation_metric(y_val, predict_lgbmr)):0.2f}%\")\n",
    "print('Время выполнения - ', datetime.now() - start)"
   ]
  },
  {
   "cell_type": "code",
   "execution_count": null,
   "id": "dc088543",
   "metadata": {},
   "outputs": [],
   "source": [
    "# lgbm for total_square = 200.19%\n",
    "# lgbm for total_square w query price_type 1 = 46.11%\n",
    "# lgbm for total_square and city = 168.25%\n",
    "# lgbm with all features = 99.18%\n",
    "# lgbm with n_estimarors 2000 = 95.64% ~1m\n",
    "# lgbm with custom metric = 2.68 ~1m"
   ]
  },
  {
   "cell_type": "code",
   "execution_count": null,
   "id": "b77bc5fa",
   "metadata": {},
   "outputs": [],
   "source": [
    "start = datetime.now()\n",
    "\n",
    "lgbmr_raif = LGBMRegressor(n_estimators=2000,\n",
    "                      learning_rate=0.01,\n",
    "                      reg_alpha=1,\n",
    "                      num_leaves=40,\n",
    "                      min_child_samples=5,\n",
    "                      importance_type=\"gain\",\n",
    "                      n_jobs=1,\n",
    "                      random_state=RANDOM_SEED)\n",
    "\n",
    "lgbmr_raif.fit(X_train, np.log(y_train))\n",
    "\n",
    "# оцениваем точность\n",
    "predict_lgbmr_raif = np.exp(lgbmr_raif.predict(X_val))\n",
    "print(f\"Точность модели по метрике MAPE: {(deviation_metric(y_val, predict_lgbmr_raif)):0.2f}%\")\n",
    "print('Время выполнения - ', datetime.now() - start)"
   ]
  },
  {
   "cell_type": "code",
   "execution_count": null,
   "id": "99557ba2",
   "metadata": {},
   "outputs": [],
   "source": [
    "# lgbm with raif baseline params = 118.29% ~27s\n",
    "# raif lgbm with custom metric = 3.66 ~ 30s"
   ]
  },
  {
   "cell_type": "code",
   "execution_count": null,
   "id": "22290afd",
   "metadata": {},
   "outputs": [],
   "source": [
    "import xgboost as xgb\n",
    "\n",
    "start = datetime.now()\n",
    "\n",
    "xgb_reg = xgb.XGBRegressor(objective='reg:squarederror',\n",
    "                           colsample_bytree=0.5,\n",
    "                           learning_rate=0.05,\n",
    "                           max_depth=12,\n",
    "                           alpha=1,\n",
    "                           n_estimators=1000)\n",
    "\n",
    "xgb_reg.fit(X_train, np.log(y_train))\n",
    "\n",
    "# оцениваем точность\n",
    "predict_xgb = np.exp(xgb_reg.predict(X_val))\n",
    "print(f\"Точность модели по метрике MAPE: {(deviation_metric(y_val, predict_xgb)):0.2f}%\")\n",
    "print('Время выполнения - ', datetime.now() - start)"
   ]
  },
  {
   "cell_type": "code",
   "execution_count": null,
   "id": "cb5f52eb",
   "metadata": {},
   "outputs": [],
   "source": [
    "# xgb = 93.33% ~ 3.5m\n",
    "# xgb with custom metric = 2.58% ~ 3.5m"
   ]
  },
  {
   "cell_type": "code",
   "execution_count": null,
   "id": "516a3058",
   "metadata": {},
   "outputs": [],
   "source": [
    "start = datetime.now()\n",
    "\n",
    "bagg_lgbm = BaggingRegressor(lgbmr_raif, n_estimators=3, n_jobs=4, random_state=RANDOM_SEED)\n",
    "bagg_lgbm.fit(X_train, np.log(y_train))\n",
    "predict_bagg_lgbm = np.exp(bagg_lgbm.predict(X_val))\n",
    "print(f\"Точность модели по метрике MAPE: {(deviation_metric(y_val, predict_bagg_lgbm)):0.2f}%\")\n",
    "print('Время выполнения - ', datetime.now() - start)"
   ]
  },
  {
   "cell_type": "code",
   "execution_count": null,
   "id": "0a733bea",
   "metadata": {},
   "outputs": [],
   "source": [
    "# "
   ]
  },
  {
   "cell_type": "markdown",
   "id": "0608f6b9",
   "metadata": {},
   "source": [
    "# SUBMISSION"
   ]
  },
  {
   "cell_type": "code",
   "execution_count": null,
   "id": "f2bc2e25",
   "metadata": {},
   "outputs": [],
   "source": [
    "predict_lgbmr = np.exp(lgbmr.predict(X_sub))\n",
    "\n",
    "sample['per_square_meter_price'] = predict_lgbmr\n",
    "sample['per_square_meter_price'] = sample['per_square_meter_price'] * 0.94\n",
    "sample.to_csv('submission_lgbmr.csv', index=False)\n",
    "sample.head()\n",
    "\n",
    "# 2.12"
   ]
  },
  {
   "cell_type": "code",
   "execution_count": null,
   "id": "32b72258",
   "metadata": {},
   "outputs": [],
   "source": [
    "predict_lgbmr_raif = np.exp(lgbmr_raif.predict(X_sub))\n",
    "\n",
    "sample['per_square_meter_price'] = predict_lgbmr_raif\n",
    "sample['per_square_meter_price'] = sample['per_square_meter_price'] * 0.94\n",
    "sample.to_csv('submission_lgbmr_raif.csv', index=False)\n",
    "sample.head()\n",
    "\n",
    "# 1.91"
   ]
  },
  {
   "cell_type": "code",
   "execution_count": null,
   "id": "875c6ca4",
   "metadata": {},
   "outputs": [],
   "source": [
    "predict_xgb = np.exp(xgb_reg.predict(X_sub))\n",
    "\n",
    "sample['per_square_meter_price'] = predict_xgb\n",
    "sample['per_square_meter_price'] = sample['per_square_meter_price'] * 0.94\n",
    "sample.to_csv('submission_xgb.csv', index=False)\n",
    "sample.head()\n",
    "\n",
    "# 2.03"
   ]
  },
  {
   "cell_type": "code",
   "execution_count": null,
   "id": "8896bedd",
   "metadata": {},
   "outputs": [],
   "source": []
  }
 ],
 "metadata": {
  "kernelspec": {
   "display_name": "Python 3",
   "language": "python",
   "name": "python3"
  },
  "language_info": {
   "codemirror_mode": {
    "name": "ipython",
    "version": 3
   },
   "file_extension": ".py",
   "mimetype": "text/x-python",
   "name": "python",
   "nbconvert_exporter": "python",
   "pygments_lexer": "ipython3",
   "version": "3.8.10"
  }
 },
 "nbformat": 4,
 "nbformat_minor": 5
}
